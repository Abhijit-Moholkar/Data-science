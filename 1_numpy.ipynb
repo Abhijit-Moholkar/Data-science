{
 "cells": [
  {
   "cell_type": "markdown",
   "id": "8e75d92f",
   "metadata": {},
   "source": [
    "# NumPy is the fundamental package for scientific computing with Python. It contains among other things:\n",
    "\n",
    "    a powerful N-dimensional array object\n",
    "\n",
    "    sophisticated (broadcasting) functions\n",
    "\n",
    "    tools for integrating C/C++ and Fortran code\n",
    "\n",
    "    useful linear algebra, Fourier transform, and random number capabilities\n",
    "\n",
    "    Besides its obvious scientific uses, NumPy can also be used as an efficient multi-dimensional container of generic data. \n",
    "    Arbitrary data-types can be defined. This allows NumPy to seamlessly and speedily integrate with a wide variety of databases."
   ]
  },
  {
   "cell_type": "raw",
   "id": "6a48a793",
   "metadata": {},
   "source": [
    "# It supports indexing\n",
    "# +ve as wll as -ve\n",
    "# It supports slicing\n",
    "# It preserve sequence order\n",
    "# It allow Duplicates\n",
    "# To create n dimensional arrays\n",
    "# It supports all kind of data (homo/Hetro)"
   ]
  },
  {
   "cell_type": "code",
   "execution_count": 1,
   "id": "d01cc50b",
   "metadata": {},
   "outputs": [],
   "source": [
    "import numpy as np       # Import numpy module and use np as alliasing name"
   ]
  },
  {
   "cell_type": "code",
   "execution_count": 2,
   "id": "ce9c5ea9",
   "metadata": {},
   "outputs": [],
   "source": [
    "a=np.array([])     # Way to create empty array"
   ]
  },
  {
   "cell_type": "code",
   "execution_count": 3,
   "id": "c36712e1",
   "metadata": {},
   "outputs": [
    {
     "data": {
      "text/plain": [
       "numpy.ndarray"
      ]
     },
     "execution_count": 3,
     "metadata": {},
     "output_type": "execute_result"
    }
   ],
   "source": [
    "type(a)       #type of numpy array is ndarray."
   ]
  },
  {
   "cell_type": "code",
   "execution_count": 4,
   "id": "ea2437fe",
   "metadata": {},
   "outputs": [
    {
     "data": {
      "text/plain": [
       "array([], dtype=float64)"
      ]
     },
     "execution_count": 4,
     "metadata": {},
     "output_type": "execute_result"
    }
   ],
   "source": [
    "a                  # Default Data type  of array objects is float64"
   ]
  },
  {
   "cell_type": "markdown",
   "id": "b8a266a9",
   "metadata": {},
   "source": [
    "##### Ways to create empty numpy array"
   ]
  },
  {
   "cell_type": "code",
   "execution_count": 5,
   "id": "656104e6",
   "metadata": {},
   "outputs": [
    {
     "name": "stdout",
     "output_type": "stream",
     "text": [
      "An empty array:  []\n",
      "Array using arange method:  [0 1 2 3 4 5 6 7 8 9]\n",
      "Array using range method:  [0 1 2 3 4 5 6 7 8 9]\n",
      "Array using linspace method:  [ 1.  2.  3.  4.  5.  6.  7.  8.  9. 10.]\n",
      "Array using random method:  [0.12418497 0.54487315 0.49434737 0.52959663 0.68915564 0.71712562\n",
      " 0.72480582 0.56248742 0.40565746 0.07591221]\n",
      "Array using randn method:  [ 0.44180552 -1.4583747   1.28049901 -0.42285496  0.38070678 -1.32343687\n",
      "  0.06079029 -1.26473716 -0.26367672  0.54944925]\n",
      "Array using random uniform method:  [-0.67752676 -0.21873676  0.65953057 -0.75215304 -0.83789248 -0.09622814\n",
      " -0.11826534 -0.36988156 -0.88669451 -0.13564436]\n",
      "Array using random normal method:  [[-0.93062361 -4.79420072  4.14718934 -4.94343696]\n",
      " [-2.56796905 -1.12729251 -0.41334651 -2.38668525]\n",
      " [ 1.70255119 -2.38620434 -3.12973673 -5.01641544]\n",
      " [-5.14263942 -3.61349909 -3.75931747 -0.06273315]]\n",
      "Array using random sample method:  [[-0.93062361 -4.79420072  4.14718934 -4.94343696]\n",
      " [-2.56796905 -1.12729251 -0.41334651 -2.38668525]\n",
      " [ 1.70255119 -2.38620434 -3.12973673 -5.01641544]\n",
      " [-5.14263942 -3.61349909 -3.75931747 -0.06273315]]\n",
      "Array using rand method:  [0.27083581 0.13449809 0.69826292 0.02888438 0.12984899 0.47766983\n",
      " 0.55340518 0.72701225 0.71614652 0.08212597]\n",
      "3-d Array using rand method:  [[[0.96236186 0.28227732 0.79344306 0.90638411]\n",
      "  [0.9252443  0.33469446 0.80035705 0.47378347]]\n",
      "\n",
      " [[0.91495695 0.40428005 0.71401903 0.52808904]\n",
      "  [0.37926371 0.18075688 0.95886631 0.95526042]]]\n",
      "Array using randint method:\n",
      " [[9 8 3 6]\n",
      " [5 9 5 3]\n",
      " [5 8 5 3]\n",
      " [2 7 3 8]]\n",
      "Array of given shape with all zeros:\n",
      " [[0. 0. 0. 0.]\n",
      " [0. 0. 0. 0.]\n",
      " [0. 0. 0. 0.]\n",
      " [0. 0. 0. 0.]]\n",
      "Array of given shape with all ones:\n",
      " [[1. 1. 1. 1.]\n",
      " [1. 1. 1. 1.]\n",
      " [1. 1. 1. 1.]\n",
      " [1. 1. 1. 1.]]\n",
      "Array of identity array using identity method:\n",
      " [[1. 0. 0. 0.]\n",
      " [0. 1. 0. 0.]\n",
      " [0. 0. 1. 0.]\n",
      " [0. 0. 0. 1.]]\n",
      "Array of identity array using eye method:\n",
      " [[1. 0. 0. 0.]\n",
      " [0. 1. 0. 0.]\n",
      " [0. 0. 1. 0.]\n",
      " [0. 0. 0. 1.]]\n",
      "Array of given shape with all values as input:\n",
      " [[10 10 10 10]\n",
      " [10 10 10 10]\n",
      " [10 10 10 10]\n",
      " [10 10 10 10]]\n"
     ]
    }
   ],
   "source": [
    "a = np.array([])\n",
    "print(\"An empty array: \",a)\n",
    "\n",
    "a1  = np.arange(10)\n",
    "print(\"Array using arange method: \",a1)\n",
    "\n",
    "a2 = np.array(range(10))             # arange([start,] stop[, step,], dtype=None)\n",
    "print(\"Array using range method: \",a2)\n",
    "\n",
    "a3 = np.linspace(1,10,10,retstep=False)     # Data type of array elements is float64. It generate 10 values in between 1 and 10 with linear space of 1\n",
    "print(\"Array using linspace method: \",a3)   # retstep gives difference between two neighbouring elements\n",
    "\n",
    "a4 = np.random.random(10)     # It generate any 10 random values in the range 0 and 1\n",
    "print(\"Array using random method: \",a4)\n",
    "\n",
    "a5 = np.random.randn(10)      # It generate any 10 random values in the range -3 and +3\n",
    "print(\"Array using randn method: \",a5)\n",
    "\n",
    "a6 = np.random.uniform(low=-1, high=1,size=10)      # uniform distribution is generally from -1 to +1(Exclusive)\n",
    "print(\"Array using random uniform method: \",a6)\n",
    "\n",
    "a7 = np.random.normal(loc=-3, scale=3,size=(4,4))     # loc- mean of the distribution\n",
    "print(\"Array using random normal method: \",a7)                                                      # scale-standard deviation (must be positive)\n",
    "\n",
    "a8 = np.random.random_sample((4,5))  # Return random floats in the half-open interval [0.0, 1.0).\n",
    "print(\"Array using random sample method: \",a7)\n",
    "\n",
    "'''\n",
    "(b - a) * random_sample() + a\n",
    "#Three-by-two array of random numbers from [-5, 0):\n",
    "\n",
    "#>>> 5 * np.random.random_sample((3, 2)) - 5\n",
    "#array([[-3.99149989, -0.52338984], # random\n",
    "#       [-2.99091858, -0.79479508],\n",
    "#       [-1.23204345, -1.75224494]])\n",
    "'''\n",
    "\n",
    "a9 = np.random.rand(10)       # It generate any 10 random values in the range 0 and 1, 1 is exclusive\n",
    "print(\"Array using rand method: \",a9)\n",
    "\n",
    "a10=np.random.rand(2,2,4)   # 2 blocks, 2 rows, 2 columns\n",
    "print(\"3-d Array using rand method: \",a10)\n",
    "\n",
    "a11 = np.random.randint(low = 1, high = 10,size = (4,4))    # It generates an array of shape (2,3) with low inclusive and high exclusive \n",
    "print(\"Array using randint method:\\n\",a11)\n",
    "\n",
    "a12 = np.zeros(shape = (4,4))                           # It generates an array of shape (2,2) with all values set to zero\n",
    "print(\"Array of given shape with all zeros:\\n\",a12)   \n",
    "             \n",
    "a13 = np.ones(shape = (4,4))                            # It generates an array of shape (2,2) with all values set to one\n",
    "print(\"Array of given shape with all ones:\\n\",a13)\n",
    "\n",
    "a14 = np.identity(4)                         # It generates an array of shape (2,2) with all diagonal elements one and non-diagonal elements are zoros\n",
    "print(\"Array of identity array using identity method:\\n\",a14)\n",
    "\n",
    "a15 = np.eye(4)\n",
    "print(\"Array of identity array using eye method:\\n\",a15)\n",
    "\n",
    "a16 = np.full(shape = (4,4),fill_value = 10)    # It generates an array of shape (2,2) with all values set to value of fill_value\n",
    "print(\"Array of given shape with all values as input:\\n\",a16)"
   ]
  },
  {
   "cell_type": "markdown",
   "id": "45ca94bb",
   "metadata": {},
   "source": [
    "##### To deal with data type of array elements"
   ]
  },
  {
   "cell_type": "raw",
   "id": "ed0ed3a7",
   "metadata": {},
   "source": [
    "To assign data type of all array elements while creation"
   ]
  },
  {
   "cell_type": "code",
   "execution_count": 6,
   "id": "649b48b1",
   "metadata": {},
   "outputs": [
    {
     "data": {
      "text/plain": [
       "array([[10, 10, 10, 10],\n",
       "       [10, 10, 10, 10],\n",
       "       [10, 10, 10, 10],\n",
       "       [10, 10, 10, 10]], dtype=int16)"
      ]
     },
     "execution_count": 6,
     "metadata": {},
     "output_type": "execute_result"
    }
   ],
   "source": [
    "a = np.full(shape = (4,4),fill_value = 10,dtype = 'int16')    \n",
    "a"
   ]
  },
  {
   "cell_type": "raw",
   "id": "6a1c7a91",
   "metadata": {},
   "source": [
    "To change data type od array elements after cration we can use astype, but changes made are not inplace, to make them inplace we have to assign result to a again (deep copy)."
   ]
  },
  {
   "cell_type": "code",
   "execution_count": 7,
   "id": "63393e2f",
   "metadata": {},
   "outputs": [
    {
     "data": {
      "text/plain": [
       "array([[10., 10., 10., 10.],\n",
       "       [10., 10., 10., 10.],\n",
       "       [10., 10., 10., 10.],\n",
       "       [10., 10., 10., 10.]])"
      ]
     },
     "execution_count": 7,
     "metadata": {},
     "output_type": "execute_result"
    }
   ],
   "source": [
    "a.astype('float64')        "
   ]
  },
  {
   "cell_type": "markdown",
   "id": "6da26d87",
   "metadata": {},
   "source": [
    "##### A sequence used for upasting while dealing with hetrogeneous data\n",
    "int=>float=>complex=>boolean=>string=>object is upcasting"
   ]
  },
  {
   "cell_type": "markdown",
   "id": "74aec1ca",
   "metadata": {},
   "source": [
    "##### To chack array dimenssions"
   ]
  },
  {
   "cell_type": "code",
   "execution_count": 8,
   "id": "1890522b",
   "metadata": {},
   "outputs": [
    {
     "data": {
      "text/plain": [
       "2"
      ]
     },
     "execution_count": 8,
     "metadata": {},
     "output_type": "execute_result"
    }
   ],
   "source": [
    "a.ndim         "
   ]
  },
  {
   "cell_type": "markdown",
   "id": "8239c9ed",
   "metadata": {},
   "source": [
    "##### To check memory allocation to array in Hex"
   ]
  },
  {
   "cell_type": "code",
   "execution_count": 9,
   "id": "73cc37b2",
   "metadata": {},
   "outputs": [
    {
     "data": {
      "text/plain": [
       "<memory at 0x000002842C2C4D40>"
      ]
     },
     "execution_count": 9,
     "metadata": {},
     "output_type": "execute_result"
    }
   ],
   "source": [
    "a.data"
   ]
  },
  {
   "cell_type": "markdown",
   "id": "53ff5a05",
   "metadata": {},
   "source": [
    "##### To check shape of array\n",
    "Shape represent number of rows and columns in an array"
   ]
  },
  {
   "cell_type": "code",
   "execution_count": 10,
   "id": "65a02a0f",
   "metadata": {},
   "outputs": [
    {
     "data": {
      "text/plain": [
       "(4, 4)"
      ]
     },
     "execution_count": 10,
     "metadata": {},
     "output_type": "execute_result"
    }
   ],
   "source": [
    "a.shape"
   ]
  },
  {
   "cell_type": "markdown",
   "id": "472b1309",
   "metadata": {},
   "source": [
    "##### To check number of array elements "
   ]
  },
  {
   "cell_type": "code",
   "execution_count": 11,
   "id": "fc565716",
   "metadata": {},
   "outputs": [
    {
     "data": {
      "text/plain": [
       "16"
      ]
     },
     "execution_count": 11,
     "metadata": {},
     "output_type": "execute_result"
    }
   ],
   "source": [
    "a.size"
   ]
  },
  {
   "cell_type": "markdown",
   "id": "49ff0eb4",
   "metadata": {},
   "source": [
    "##### Way to change shape of array"
   ]
  },
  {
   "cell_type": "code",
   "execution_count": 12,
   "id": "cdcbeaa3",
   "metadata": {},
   "outputs": [
    {
     "data": {
      "text/plain": [
       "array([[10, 10, 10, 10],\n",
       "       [10, 10, 10, 10],\n",
       "       [10, 10, 10, 10],\n",
       "       [10, 10, 10, 10]], dtype=int16)"
      ]
     },
     "execution_count": 12,
     "metadata": {},
     "output_type": "execute_result"
    }
   ],
   "source": [
    "a.reshape(4,4)"
   ]
  },
  {
   "cell_type": "code",
   "execution_count": 13,
   "id": "34a191dd",
   "metadata": {},
   "outputs": [],
   "source": [
    "#1D: 28                                                     []\n",
    "#2D(rows,column): (4,7) (7,4) (2,14) (14,2) (1,28) (28,1)   [[],[],[]]\n",
    "#3D(block,row,column): (2,2,7) (7,4,4) (2,14,1) (1,1,28)    [[[],[],[]]]"
   ]
  },
  {
   "cell_type": "markdown",
   "id": "72d65161",
   "metadata": {},
   "source": [
    "##### To check size of each array element\n",
    "data type of array element is int16     16/8(size of byte)=2 bytes"
   ]
  },
  {
   "cell_type": "code",
   "execution_count": 14,
   "id": "558466dd",
   "metadata": {},
   "outputs": [
    {
     "data": {
      "text/plain": [
       "2"
      ]
     },
     "execution_count": 14,
     "metadata": {},
     "output_type": "execute_result"
    }
   ],
   "source": [
    "a.itemsize      "
   ]
  },
  {
   "cell_type": "code",
   "execution_count": 15,
   "id": "81c8e945",
   "metadata": {},
   "outputs": [
    {
     "data": {
      "text/plain": [
       "array([[10, 10, 10, 10],\n",
       "       [10, 10, 10, 10],\n",
       "       [10, 10, 10, 10],\n",
       "       [10, 10, 10, 10]], dtype=int16)"
      ]
     },
     "execution_count": 15,
     "metadata": {},
     "output_type": "execute_result"
    }
   ],
   "source": [
    "a"
   ]
  },
  {
   "cell_type": "markdown",
   "id": "e9667d38",
   "metadata": {},
   "source": [
    "##### Ways to convert nd-array to 1d- array and to change shape of array\n",
    "It can be done using two methods:\n",
    "1. ravel()\n",
    "Defualt data type of array items is float\n",
    "Ravel is a method which converts ndarray to 1d.\n",
    "It is a library function .\n",
    "It creates deep copy.\n",
    "It is faster and require less storage\n",
    "2. flatten()\n",
    "Another method to convert ndarray to 1d\n",
    "It is a method associated with numpy so cant be used with other objects\n",
    "It create shallow copy. i.e. create another object and it cant persist changes\n",
    "It is slower and require more memory\n",
    "3. resize"
   ]
  },
  {
   "cell_type": "code",
   "execution_count": 16,
   "id": "b82fd471",
   "metadata": {},
   "outputs": [
    {
     "data": {
      "text/plain": [
       "array([10, 10, 10, 10, 10, 10, 10, 10, 10, 10, 10, 10, 10, 10, 10, 10],\n",
       "      dtype=int16)"
      ]
     },
     "execution_count": 16,
     "metadata": {},
     "output_type": "execute_result"
    }
   ],
   "source": [
    "a.ravel()       # Shape of origional array remain unchanged "
   ]
  },
  {
   "cell_type": "code",
   "execution_count": 17,
   "id": "971519df",
   "metadata": {},
   "outputs": [
    {
     "data": {
      "text/plain": [
       "array([[10, 10, 10, 10],\n",
       "       [10, 10, 10, 10],\n",
       "       [10, 10, 10, 10],\n",
       "       [10, 10, 10, 10]], dtype=int16)"
      ]
     },
     "execution_count": 17,
     "metadata": {},
     "output_type": "execute_result"
    }
   ],
   "source": [
    "a"
   ]
  },
  {
   "cell_type": "code",
   "execution_count": 18,
   "id": "fc0dc037",
   "metadata": {},
   "outputs": [
    {
     "data": {
      "text/plain": [
       "array([10, 10, 10, 10, 10, 10, 10, 10, 10, 10, 10, 10, 10, 10, 10, 10],\n",
       "      dtype=int16)"
      ]
     },
     "execution_count": 18,
     "metadata": {},
     "output_type": "execute_result"
    }
   ],
   "source": [
    "a.flatten()    # Shape of origional array remain unchanged   "
   ]
  },
  {
   "cell_type": "code",
   "execution_count": 19,
   "id": "276c1047",
   "metadata": {},
   "outputs": [
    {
     "data": {
      "text/plain": [
       "array([10, 10, 10, 10, 10, 10, 10, 10, 10, 10, 10, 10, 10, 10, 10, 10],\n",
       "      dtype=int16)"
      ]
     },
     "execution_count": 19,
     "metadata": {},
     "output_type": "execute_result"
    }
   ],
   "source": [
    "a.resize(16)     # It is 3rd approach to convert nd to 1d\n",
    "a                # resize modify array shape permanantly "
   ]
  },
  {
   "cell_type": "code",
   "execution_count": 20,
   "id": "b1327512",
   "metadata": {},
   "outputs": [
    {
     "data": {
      "text/plain": [
       "array([10, 10, 10, 10, 10, 10, 10, 10, 10, 10, 10, 10, 10, 10, 10, 10],\n",
       "      dtype=int16)"
      ]
     },
     "execution_count": 20,
     "metadata": {},
     "output_type": "execute_result"
    }
   ],
   "source": [
    "a"
   ]
  },
  {
   "cell_type": "code",
   "execution_count": 21,
   "id": "7ec6429b",
   "metadata": {},
   "outputs": [
    {
     "data": {
      "text/plain": [
       "array([[10, 10],\n",
       "       [10, 10],\n",
       "       [10, 10],\n",
       "       [10, 10],\n",
       "       [10, 10],\n",
       "       [10, 10],\n",
       "       [10, 10],\n",
       "       [10, 10]], dtype=int16)"
      ]
     },
     "execution_count": 21,
     "metadata": {},
     "output_type": "execute_result"
    }
   ],
   "source": [
    "a.shape=(8,2)    # 4th approach to convert nd array to 1d. changes made are permanant.\n",
    "a"
   ]
  },
  {
   "cell_type": "code",
   "execution_count": 22,
   "id": "c43a2ac3",
   "metadata": {},
   "outputs": [
    {
     "data": {
      "text/plain": [
       "array([[10, 10],\n",
       "       [10, 10],\n",
       "       [10, 10],\n",
       "       [10, 10],\n",
       "       [10, 10],\n",
       "       [10, 10],\n",
       "       [10, 10],\n",
       "       [10, 10]], dtype=int16)"
      ]
     },
     "execution_count": 22,
     "metadata": {},
     "output_type": "execute_result"
    }
   ],
   "source": [
    "a"
   ]
  },
  {
   "cell_type": "code",
   "execution_count": 23,
   "id": "e1012cad",
   "metadata": {},
   "outputs": [
    {
     "data": {
      "text/plain": [
       "array([[ 0,  1,  2,  3],\n",
       "       [ 4,  5,  6,  7],\n",
       "       [ 8,  9, 10, 11],\n",
       "       [12, 13, 14, 15]])"
      ]
     },
     "execution_count": 23,
     "metadata": {},
     "output_type": "execute_result"
    }
   ],
   "source": [
    "e=np.arange(16).reshape(4,4) \n",
    "e"
   ]
  },
  {
   "cell_type": "code",
   "execution_count": 24,
   "id": "cffb8b00",
   "metadata": {},
   "outputs": [
    {
     "data": {
      "text/plain": [
       "array([[ 0,  1],\n",
       "       [ 2,  3],\n",
       "       [ 4,  5],\n",
       "       [ 6,  7],\n",
       "       [ 8,  9],\n",
       "       [10, 11],\n",
       "       [12, 13],\n",
       "       [14, 15]])"
      ]
     },
     "execution_count": 24,
     "metadata": {},
     "output_type": "execute_result"
    }
   ],
   "source": [
    "e.reshape(8,-1)      # In reshape we can put -1 for either of the dimwnsion.\n",
    "                     #changes in dimensions using reshape are temporary."
   ]
  },
  {
   "cell_type": "code",
   "execution_count": 25,
   "id": "cc086b71",
   "metadata": {},
   "outputs": [
    {
     "data": {
      "text/plain": [
       "array([[ 0,  1,  2,  3],\n",
       "       [ 4,  5,  6,  7],\n",
       "       [ 8,  9, 10, 11],\n",
       "       [12, 13, 14, 15]])"
      ]
     },
     "execution_count": 25,
     "metadata": {},
     "output_type": "execute_result"
    }
   ],
   "source": [
    "e"
   ]
  },
  {
   "cell_type": "markdown",
   "id": "d7d44848",
   "metadata": {},
   "source": [
    "##### To access diagonal elements of array"
   ]
  },
  {
   "cell_type": "code",
   "execution_count": 26,
   "id": "b3718cda",
   "metadata": {},
   "outputs": [
    {
     "data": {
      "text/plain": [
       "array([10, 10], dtype=int16)"
      ]
     },
     "execution_count": 26,
     "metadata": {},
     "output_type": "execute_result"
    }
   ],
   "source": [
    "np.diagonal(a)   "
   ]
  },
  {
   "cell_type": "markdown",
   "id": "d598b3c6",
   "metadata": {},
   "source": [
    "##### To create list of an array elements\n",
    "Each nested list corresponds to row"
   ]
  },
  {
   "cell_type": "code",
   "execution_count": 27,
   "id": "595d2cf0",
   "metadata": {},
   "outputs": [
    {
     "data": {
      "text/plain": [
       "array([[ 0,  1,  2,  3],\n",
       "       [ 4,  5,  6,  7],\n",
       "       [ 8,  9, 10, 11],\n",
       "       [12, 13, 14, 15]])"
      ]
     },
     "execution_count": 27,
     "metadata": {},
     "output_type": "execute_result"
    }
   ],
   "source": [
    "e"
   ]
  },
  {
   "cell_type": "code",
   "execution_count": 28,
   "id": "af8540da",
   "metadata": {},
   "outputs": [
    {
     "data": {
      "text/plain": [
       "[[0, 1, 2, 3], [4, 5, 6, 7], [8, 9, 10, 11], [12, 13, 14, 15]]"
      ]
     },
     "execution_count": 28,
     "metadata": {},
     "output_type": "execute_result"
    }
   ],
   "source": [
    "l=e.tolist()              \n",
    "l"
   ]
  },
  {
   "cell_type": "markdown",
   "id": "9f71a417",
   "metadata": {},
   "source": [
    "##### Ways to access array elements\n",
    "We can access it by indexing and slicing"
   ]
  },
  {
   "cell_type": "code",
   "execution_count": 29,
   "id": "b115de07",
   "metadata": {},
   "outputs": [
    {
     "data": {
      "text/plain": [
       "[[1, 2, 2, 3], [4, 5, 6, 7], [8, 9, 10, 11], [12, 13, 14, 15]]"
      ]
     },
     "execution_count": 29,
     "metadata": {},
     "output_type": "execute_result"
    }
   ],
   "source": [
    "l[0]=[1,2,2,3]             # it returns first row of array\n",
    "l                          # We can modify it by indexing and slicing"
   ]
  },
  {
   "cell_type": "code",
   "execution_count": 30,
   "id": "918ce15a",
   "metadata": {},
   "outputs": [
    {
     "data": {
      "text/plain": [
       "1"
      ]
     },
     "execution_count": 30,
     "metadata": {},
     "output_type": "execute_result"
    }
   ],
   "source": [
    "l[0][0]     # We can access single elment of list using row and column indexing\n",
    "            # It cant reflect changes in origional nd array"
   ]
  },
  {
   "cell_type": "code",
   "execution_count": 31,
   "id": "3029a2e2",
   "metadata": {},
   "outputs": [
    {
     "data": {
      "text/plain": [
       "array([[ 0,  1,  2,  3],\n",
       "       [ 4,  5,  6,  7],\n",
       "       [ 8,  9, 10, 11],\n",
       "       [12, 13, 14, 15]])"
      ]
     },
     "execution_count": 31,
     "metadata": {},
     "output_type": "execute_result"
    }
   ],
   "source": [
    "e"
   ]
  },
  {
   "cell_type": "code",
   "execution_count": 32,
   "id": "c5330680",
   "metadata": {},
   "outputs": [
    {
     "data": {
      "text/plain": [
       "[0, 1, 2, 3, 4, 5, 6, 7, 8, 9, 10, 11, 12, 13, 14, 15]"
      ]
     },
     "execution_count": 32,
     "metadata": {},
     "output_type": "execute_result"
    }
   ],
   "source": [
    "l1=list(np.ravel(e))    # By converting nd array to 1D and then typecasting we get list as a whole\n",
    "l1                      # nd to 1d array conversion can be done using different methods"
   ]
  },
  {
   "cell_type": "code",
   "execution_count": 33,
   "id": "74f06791",
   "metadata": {},
   "outputs": [
    {
     "data": {
      "text/plain": [
       "array([[ 0,  1,  2,  3],\n",
       "       [ 4,  5,  6,  7],\n",
       "       [ 8,  9, 10, 11],\n",
       "       [12, 13, 14, 15]])"
      ]
     },
     "execution_count": 33,
     "metadata": {},
     "output_type": "execute_result"
    }
   ],
   "source": [
    "e"
   ]
  },
  {
   "cell_type": "code",
   "execution_count": 34,
   "id": "1a5ce3d5",
   "metadata": {},
   "outputs": [
    {
     "data": {
      "text/plain": [
       "array([[11, 12, 13, 14],\n",
       "       [ 4,  5,  6,  7],\n",
       "       [ 8,  9, 10, 11],\n",
       "       [12, 13, 14, 15]])"
      ]
     },
     "execution_count": 34,
     "metadata": {},
     "output_type": "execute_result"
    }
   ],
   "source": [
    "e[0]=[11,12,13,14]    # Accessing and modifyying array elements using indexing\n",
    "e"
   ]
  },
  {
   "cell_type": "code",
   "execution_count": 35,
   "id": "fe51bbb9",
   "metadata": {},
   "outputs": [
    {
     "data": {
      "text/plain": [
       "22"
      ]
     },
     "execution_count": 35,
     "metadata": {},
     "output_type": "execute_result"
    }
   ],
   "source": [
    "e[0][1]=22     # modifying single element\n",
    "e[0][1]"
   ]
  },
  {
   "cell_type": "code",
   "execution_count": 36,
   "id": "cddb82ae",
   "metadata": {},
   "outputs": [
    {
     "data": {
      "text/plain": [
       "array([[11, 22, 13, 14],\n",
       "       [ 4,  5,  6,  7],\n",
       "       [ 8,  9, 10, 11],\n",
       "       [12, 13, 14, 15]])"
      ]
     },
     "execution_count": 36,
     "metadata": {},
     "output_type": "execute_result"
    }
   ],
   "source": [
    "e"
   ]
  },
  {
   "cell_type": "code",
   "execution_count": 37,
   "id": "1b5b1333",
   "metadata": {},
   "outputs": [
    {
     "data": {
      "text/plain": [
       "array([[ 3,  4, 13, 14],\n",
       "       [ 5,  6,  6,  7],\n",
       "       [ 7,  8, 10, 11],\n",
       "       [ 9, 10, 14, 15]])"
      ]
     },
     "execution_count": 37,
     "metadata": {},
     "output_type": "execute_result"
    }
   ],
   "source": [
    "e[:,:2] =[[3,4],[5,6],[7,8],[9,10]]     # To access all rows and first two columns of array\n",
    "e"
   ]
  },
  {
   "cell_type": "code",
   "execution_count": 38,
   "id": "3574cbd7",
   "metadata": {},
   "outputs": [
    {
     "data": {
      "text/plain": [
       "array([ 4, 13])"
      ]
     },
     "execution_count": 38,
     "metadata": {},
     "output_type": "execute_result"
    }
   ],
   "source": [
    "e[0][1:3]      # To access 4 and 3 i.e. elements of first row and column1 and 2"
   ]
  },
  {
   "cell_type": "code",
   "execution_count": 39,
   "id": "3af01b7a",
   "metadata": {},
   "outputs": [
    {
     "data": {
      "text/plain": [
       "array([14,  7, 11, 15])"
      ]
     },
     "execution_count": 39,
     "metadata": {},
     "output_type": "execute_result"
    }
   ],
   "source": [
    "e[:,-1]       # It gives all rows of last column horizontally"
   ]
  },
  {
   "cell_type": "code",
   "execution_count": 40,
   "id": "80910bf5",
   "metadata": {},
   "outputs": [
    {
     "data": {
      "text/plain": [
       "array([[14],\n",
       "       [ 7],\n",
       "       [11],\n",
       "       [15]])"
      ]
     },
     "execution_count": 40,
     "metadata": {},
     "output_type": "execute_result"
    }
   ],
   "source": [
    "e[:,-1:]       # It gives all rows of last column vertically"
   ]
  },
  {
   "cell_type": "markdown",
   "id": "b8d16ef9",
   "metadata": {},
   "source": [
    "##### in slicing if we apply index==> it will give 1D data\n",
    "##### and if we apply slicing in slicing then ==> it will give 2D data\n",
    "##### Slicing to modify multiple elements"
   ]
  },
  {
   "cell_type": "markdown",
   "id": "db5f6fae",
   "metadata": {},
   "source": [
    "##### Methods to convert row to column and column to rows"
   ]
  },
  {
   "cell_type": "code",
   "execution_count": 41,
   "id": "832819ba",
   "metadata": {},
   "outputs": [
    {
     "data": {
      "text/plain": [
       "array([[ 3,  4, 13, 14],\n",
       "       [ 5,  6,  6,  7],\n",
       "       [ 7,  8, 10, 11],\n",
       "       [ 9, 10, 14, 15]])"
      ]
     },
     "execution_count": 41,
     "metadata": {},
     "output_type": "execute_result"
    }
   ],
   "source": [
    "e"
   ]
  },
  {
   "cell_type": "code",
   "execution_count": 42,
   "id": "8c8ecea9",
   "metadata": {},
   "outputs": [
    {
     "data": {
      "text/plain": [
       "array([[ 3,  5,  7,  9],\n",
       "       [ 4,  6,  8, 10],\n",
       "       [13,  6, 10, 14],\n",
       "       [14,  7, 11, 15]])"
      ]
     },
     "execution_count": 42,
     "metadata": {},
     "output_type": "execute_result"
    }
   ],
   "source": [
    "e.transpose()               # To take transpose of array"
   ]
  },
  {
   "cell_type": "code",
   "execution_count": 43,
   "id": "f62505b5",
   "metadata": {},
   "outputs": [
    {
     "data": {
      "text/plain": [
       "array([[ 3,  5,  7,  9],\n",
       "       [ 4,  6,  8, 10],\n",
       "       [13,  6, 10, 14],\n",
       "       [14,  7, 11, 15]])"
      ]
     },
     "execution_count": 43,
     "metadata": {},
     "output_type": "execute_result"
    }
   ],
   "source": [
    "e.T                         # To take transpose of array"
   ]
  },
  {
   "cell_type": "markdown",
   "id": "6a14432f",
   "metadata": {},
   "source": [
    "##### Arithmatic operations on nd-array"
   ]
  },
  {
   "cell_type": "code",
   "execution_count": 44,
   "id": "ce1ec5e0",
   "metadata": {},
   "outputs": [
    {
     "data": {
      "text/plain": [
       "array([4, 2, 5, 3])"
      ]
     },
     "execution_count": 44,
     "metadata": {},
     "output_type": "execute_result"
    }
   ],
   "source": [
    "a=np.array([4,2,5,3])\n",
    "a"
   ]
  },
  {
   "cell_type": "code",
   "execution_count": 45,
   "id": "4d26fc4a",
   "metadata": {},
   "outputs": [
    {
     "data": {
      "text/plain": [
       "array([7, 8])"
      ]
     },
     "execution_count": 45,
     "metadata": {},
     "output_type": "execute_result"
    }
   ],
   "source": [
    "b=np.array([7,8])\n",
    "b"
   ]
  },
  {
   "cell_type": "code",
   "execution_count": 46,
   "id": "47d9bf1d",
   "metadata": {},
   "outputs": [
    {
     "data": {
      "text/plain": [
       "array([[7],\n",
       "       [8]])"
      ]
     },
     "execution_count": 46,
     "metadata": {},
     "output_type": "execute_result"
    }
   ],
   "source": [
    "#a+b                  addition is not posible as bothe arrays are with shapes (4,) (2,) \n",
    "x=b[:,np.newaxis]    # convert 1D to 2D. \n",
    "x                    # Origional values as first column and new axis as second column   "
   ]
  },
  {
   "cell_type": "code",
   "execution_count": 47,
   "id": "134b3481",
   "metadata": {},
   "outputs": [
    {
     "data": {
      "text/plain": [
       "array([[11,  9, 12, 10],\n",
       "       [12, 10, 13, 11]])"
      ]
     },
     "execution_count": 47,
     "metadata": {},
     "output_type": "execute_result"
    }
   ],
   "source": [
    "a+x"
   ]
  },
  {
   "cell_type": "markdown",
   "id": "a391bb63",
   "metadata": {},
   "source": [
    "##### Ways to expand dimenssions of array"
   ]
  },
  {
   "cell_type": "code",
   "execution_count": 48,
   "id": "ffe60d66",
   "metadata": {},
   "outputs": [
    {
     "name": "stdout",
     "output_type": "stream",
     "text": [
      "(5, 5)\n",
      "(5, 1, 1, 1, 1, 1, 5)\n"
     ]
    }
   ],
   "source": [
    "arr=np.arange(5*5).reshape(5,5)\n",
    "print(arr.shape)\n",
    "\n",
    "arr1= np.expand_dims(arr,axis=(5,2,1,4,3))     # Axis should be unique up to number of elements\n",
    "print(arr1.shape)                              # We can expand dimensions by any number "
   ]
  },
  {
   "cell_type": "markdown",
   "id": "711132cd",
   "metadata": {},
   "source": [
    "##### Combining multiple arrays"
   ]
  },
  {
   "cell_type": "code",
   "execution_count": 49,
   "id": "8de356a6",
   "metadata": {},
   "outputs": [
    {
     "data": {
      "text/plain": [
       "array([[ 0,  1,  2,  3],\n",
       "       [ 4,  5,  6,  7],\n",
       "       [ 8,  9, 10, 11],\n",
       "       [12, 13, 14, 15]])"
      ]
     },
     "execution_count": 49,
     "metadata": {},
     "output_type": "execute_result"
    }
   ],
   "source": [
    "a=np.array(range(16)).reshape(4,4)\n",
    "a"
   ]
  },
  {
   "cell_type": "code",
   "execution_count": 50,
   "id": "0ded2655",
   "metadata": {},
   "outputs": [
    {
     "data": {
      "text/plain": [
       "array([[11, 12, 13, 14]])"
      ]
     },
     "execution_count": 50,
     "metadata": {},
     "output_type": "execute_result"
    }
   ],
   "source": [
    "b=np.array(range(11,15)).reshape(1,4)\n",
    "b"
   ]
  },
  {
   "cell_type": "code",
   "execution_count": 51,
   "id": "6e64def4",
   "metadata": {},
   "outputs": [
    {
     "data": {
      "text/plain": [
       "array([ 0,  1,  2,  3,  4,  5,  6,  7,  8,  9, 10, 11, 12, 13, 14, 15, 11,\n",
       "       12, 13, 14])"
      ]
     },
     "execution_count": 51,
     "metadata": {},
     "output_type": "execute_result"
    }
   ],
   "source": [
    "np.append(a,b)           # append will convert nd array to 1d and then appent values at the end"
   ]
  },
  {
   "cell_type": "code",
   "execution_count": 52,
   "id": "20853e27",
   "metadata": {},
   "outputs": [
    {
     "data": {
      "text/plain": [
       "array([[ 0,  1,  2,  3],\n",
       "       [ 4,  5,  6,  7],\n",
       "       [ 8,  9, 10, 11],\n",
       "       [12, 13, 14, 15],\n",
       "       [11, 12, 13, 14]])"
      ]
     },
     "execution_count": 52,
     "metadata": {},
     "output_type": "execute_result"
    }
   ],
   "source": [
    "np.append(a,b,axis=0)    # both arrays should be of same dimensions"
   ]
  },
  {
   "cell_type": "code",
   "execution_count": 53,
   "id": "f4cce19d",
   "metadata": {},
   "outputs": [
    {
     "data": {
      "text/plain": [
       "array([[11],\n",
       "       [12],\n",
       "       [13],\n",
       "       [14]])"
      ]
     },
     "execution_count": 53,
     "metadata": {},
     "output_type": "execute_result"
    }
   ],
   "source": [
    "c=np.array(range(11,15)).reshape(4,1)\n",
    "c"
   ]
  },
  {
   "cell_type": "code",
   "execution_count": 54,
   "id": "aa7378de",
   "metadata": {},
   "outputs": [
    {
     "data": {
      "text/plain": [
       "array([[ 0,  1,  2,  3, 11],\n",
       "       [ 4,  5,  6,  7, 12],\n",
       "       [ 8,  9, 10, 11, 13],\n",
       "       [12, 13, 14, 15, 14]])"
      ]
     },
     "execution_count": 54,
     "metadata": {},
     "output_type": "execute_result"
    }
   ],
   "source": [
    "np.append(a,c,axis=1)"
   ]
  },
  {
   "cell_type": "code",
   "execution_count": 55,
   "id": "7dc71896",
   "metadata": {},
   "outputs": [
    {
     "data": {
      "text/plain": [
       "array([[ 0,  1,  2,  3],\n",
       "       [ 4,  5,  6,  7],\n",
       "       [ 8,  9, 10, 11],\n",
       "       [12, 13, 14, 15],\n",
       "       [11, 12, 13, 14]])"
      ]
     },
     "execution_count": 55,
     "metadata": {},
     "output_type": "execute_result"
    }
   ],
   "source": [
    "np.concatenate((a,b))            #columnwise as default value of axis is 0"
   ]
  },
  {
   "cell_type": "code",
   "execution_count": 56,
   "id": "2f3f4b38",
   "metadata": {},
   "outputs": [
    {
     "data": {
      "text/plain": [
       "array([[ 0,  1,  2,  3, 11],\n",
       "       [ 4,  5,  6,  7, 12],\n",
       "       [ 8,  9, 10, 11, 13],\n",
       "       [12, 13, 14, 15, 14]])"
      ]
     },
     "execution_count": 56,
     "metadata": {},
     "output_type": "execute_result"
    }
   ],
   "source": [
    "np.concatenate((a,c),axis=1)     #rowwise"
   ]
  },
  {
   "cell_type": "markdown",
   "id": "cdaa47c0",
   "metadata": {},
   "source": [
    "##### To add values in between or at specified index\n",
    "#Insert values along the given axis before the given indices.\n",
    "#==>(arr,index,values,axis)\n",
    "np.insert(x,3,100,axis=0)"
   ]
  },
  {
   "cell_type": "code",
   "execution_count": 57,
   "id": "144226a8",
   "metadata": {},
   "outputs": [
    {
     "data": {
      "text/plain": [
       "array([[ 0,  1,  2,  3],\n",
       "       [ 4,  5,  6,  7],\n",
       "       [ 8,  9, 10, 11],\n",
       "       [12, 13, 14, 15]])"
      ]
     },
     "execution_count": 57,
     "metadata": {},
     "output_type": "execute_result"
    }
   ],
   "source": [
    "a"
   ]
  },
  {
   "cell_type": "code",
   "execution_count": 58,
   "id": "406bade8",
   "metadata": {},
   "outputs": [
    {
     "data": {
      "text/plain": [
       "array([[  0,   1,   2,   3],\n",
       "       [  4,   5,   6,   7],\n",
       "       [100, 100, 100, 100],\n",
       "       [  8,   9,  10,  11],\n",
       "       [ 12,  13,  14,  15]])"
      ]
     },
     "execution_count": 58,
     "metadata": {},
     "output_type": "execute_result"
    }
   ],
   "source": [
    "np.insert(a,2,100,axis=0)"
   ]
  },
  {
   "cell_type": "code",
   "execution_count": 59,
   "id": "87725871",
   "metadata": {},
   "outputs": [
    {
     "data": {
      "text/plain": [
       "array([[  0,   1, 100,   2,   3],\n",
       "       [  4,   5, 100,   6,   7],\n",
       "       [  8,   9, 100,  10,  11],\n",
       "       [ 12,  13, 100,  14,  15]])"
      ]
     },
     "execution_count": 59,
     "metadata": {},
     "output_type": "execute_result"
    }
   ],
   "source": [
    "np.insert(a,2,100,axis=1)"
   ]
  },
  {
   "cell_type": "code",
   "execution_count": 60,
   "id": "a81f6568",
   "metadata": {},
   "outputs": [
    {
     "data": {
      "text/plain": [
       "array([[  0,   1, 100,   2,   3],\n",
       "       [  4,   5, 200,   6,   7],\n",
       "       [  8,   9, 300,  10,  11],\n",
       "       [ 12,  13, 400,  14,  15]])"
      ]
     },
     "execution_count": 60,
     "metadata": {},
     "output_type": "execute_result"
    }
   ],
   "source": [
    "np.insert(a,2,[100,200,300,400],axis=1)"
   ]
  },
  {
   "cell_type": "markdown",
   "id": "ebfafdd8",
   "metadata": {},
   "source": [
    "##### Use of condition as indexing to access a part of an array"
   ]
  },
  {
   "cell_type": "code",
   "execution_count": 61,
   "id": "f0371928",
   "metadata": {},
   "outputs": [
    {
     "data": {
      "text/plain": [
       "array([[ 0,  1,  2,  3],\n",
       "       [ 4,  5,  6,  7],\n",
       "       [ 8,  9, 10, 11],\n",
       "       [12, 13, 14, 15]])"
      ]
     },
     "execution_count": 61,
     "metadata": {},
     "output_type": "execute_result"
    }
   ],
   "source": [
    "\n",
    "a=np.arange(16).reshape(4,4)\n",
    "a"
   ]
  },
  {
   "cell_type": "code",
   "execution_count": 62,
   "id": "8355889b",
   "metadata": {},
   "outputs": [
    {
     "data": {
      "text/plain": [
       "array([[ True,  True,  True,  True],\n",
       "       [ True,  True,  True,  True],\n",
       "       [ True,  True, False, False],\n",
       "       [False, False, False, False]])"
      ]
     },
     "execution_count": 62,
     "metadata": {},
     "output_type": "execute_result"
    }
   ],
   "source": [
    "a<10         # To generate boolean matrix specifying condition satisfaction"
   ]
  },
  {
   "cell_type": "code",
   "execution_count": 63,
   "id": "f85eaba0",
   "metadata": {},
   "outputs": [
    {
     "data": {
      "text/plain": [
       "array([[  0,   1,   2,   3],\n",
       "       [  4,   5,   6,   7],\n",
       "       [  8,   9, -10, -11],\n",
       "       [-12, -13, -14, -15]])"
      ]
     },
     "execution_count": 63,
     "metadata": {},
     "output_type": "execute_result"
    }
   ],
   "source": [
    "np.where(a<10,a,-a)    # Maintain number as it is if condition is satisfied else change its sign"
   ]
  },
  {
   "cell_type": "code",
   "execution_count": 64,
   "id": "ca06355b",
   "metadata": {},
   "outputs": [
    {
     "data": {
      "text/plain": [
       "array([[1111,    1,    2,    3],\n",
       "       [   4,    5,    6,    7],\n",
       "       [   8,    9,   10,   11],\n",
       "       [  12,   13,   14,   15]])"
      ]
     },
     "execution_count": 64,
     "metadata": {},
     "output_type": "execute_result"
    }
   ],
   "source": [
    "a[a==0]=1111       # If condition satisfies then update value\n",
    "a"
   ]
  },
  {
   "cell_type": "code",
   "execution_count": 65,
   "id": "d5b1411a",
   "metadata": {},
   "outputs": [
    {
     "data": {
      "text/plain": [
       "array([[10, 10, 10, 10],\n",
       "       [10, 10, 10, 10],\n",
       "       [10, 10, 10, 10],\n",
       "       [10, 10, 10, 10]])"
      ]
     },
     "execution_count": 65,
     "metadata": {},
     "output_type": "execute_result"
    }
   ],
   "source": [
    "a=np.full(16,fill_value=10).reshape(4,4)    # To create an array with all values initialised to 10\n",
    "a"
   ]
  },
  {
   "cell_type": "code",
   "execution_count": 66,
   "id": "959f8a55",
   "metadata": {},
   "outputs": [
    {
     "data": {
      "text/plain": [
       "array([[20, 20, 20, 20],\n",
       "       [20, 20, 20, 20],\n",
       "       [20, 20, 20, 20],\n",
       "       [20, 20, 20, 20]])"
      ]
     },
     "execution_count": 66,
     "metadata": {},
     "output_type": "execute_result"
    }
   ],
   "source": [
    "b=np.full((4,4),fill_value=20)\n",
    "b"
   ]
  },
  {
   "cell_type": "markdown",
   "id": "85775846",
   "metadata": {},
   "source": [
    "##### Create list of arrays"
   ]
  },
  {
   "cell_type": "code",
   "execution_count": 67,
   "id": "18517eaa",
   "metadata": {},
   "outputs": [
    {
     "data": {
      "text/plain": [
       "[array([10, 10, 10, 10]),\n",
       " array([10, 10, 10, 10]),\n",
       " array([10, 10, 10, 10]),\n",
       " array([10, 10, 10, 10])]"
      ]
     },
     "execution_count": 67,
     "metadata": {},
     "output_type": "execute_result"
    }
   ],
   "source": [
    "list(a)       # Create list of arrays"
   ]
  },
  {
   "cell_type": "markdown",
   "id": "a033999b",
   "metadata": {},
   "source": [
    "##### Statistic on nd- array"
   ]
  },
  {
   "cell_type": "code",
   "execution_count": 68,
   "id": "12c0637a",
   "metadata": {},
   "outputs": [
    {
     "data": {
      "text/plain": [
       "array([[ 0,  1,  2,  3],\n",
       "       [ 4,  5,  6,  7],\n",
       "       [ 8,  9, 10, 11],\n",
       "       [12, 13, 14, 15]])"
      ]
     },
     "execution_count": 68,
     "metadata": {},
     "output_type": "execute_result"
    }
   ],
   "source": [
    "a=np.arange(16).reshape(4,4)\n",
    "a"
   ]
  },
  {
   "cell_type": "code",
   "execution_count": 69,
   "id": "17eb3cd7",
   "metadata": {},
   "outputs": [
    {
     "data": {
      "text/plain": [
       "0"
      ]
     },
     "execution_count": 69,
     "metadata": {},
     "output_type": "execute_result"
    }
   ],
   "source": [
    "a.min()                # To get minimum value of array if axis is specified then it gives minimum value axis wise"
   ]
  },
  {
   "cell_type": "code",
   "execution_count": 70,
   "id": "be577409",
   "metadata": {},
   "outputs": [
    {
     "data": {
      "text/plain": [
       "array([12, 13, 14, 15])"
      ]
     },
     "execution_count": 70,
     "metadata": {},
     "output_type": "execute_result"
    }
   ],
   "source": [
    "a.max(axis=0)          # To get maximum value of array if axis is specified then it gives maximum value axis wise"
   ]
  },
  {
   "cell_type": "code",
   "execution_count": 71,
   "id": "3b532d73",
   "metadata": {},
   "outputs": [
    {
     "data": {
      "text/plain": [
       "array([ 1.5,  5.5,  9.5, 13.5])"
      ]
     },
     "execution_count": 71,
     "metadata": {},
     "output_type": "execute_result"
    }
   ],
   "source": [
    "a.mean(axis=1)        # To get average value of array if axis is specified then it gives average value axis wise"
   ]
  },
  {
   "cell_type": "code",
   "execution_count": 72,
   "id": "65865b99",
   "metadata": {},
   "outputs": [
    {
     "data": {
      "text/plain": [
       "array([4.47213595, 4.47213595, 4.47213595, 4.47213595])"
      ]
     },
     "execution_count": 72,
     "metadata": {},
     "output_type": "execute_result"
    }
   ],
   "source": [
    "a.std(axis=0)         # To get standard deviation value of array if axis is specified then it gives standard deviation value axis wise"
   ]
  },
  {
   "cell_type": "code",
   "execution_count": 73,
   "id": "f2784801",
   "metadata": {},
   "outputs": [
    {
     "data": {
      "text/plain": [
       "120"
      ]
     },
     "execution_count": 73,
     "metadata": {},
     "output_type": "execute_result"
    }
   ],
   "source": [
    "a.sum()                # To get addition of array values if axis is specified then it gives addition axis wise"
   ]
  },
  {
   "cell_type": "code",
   "execution_count": 74,
   "id": "75db4734",
   "metadata": {},
   "outputs": [
    {
     "data": {
      "text/plain": [
       "0"
      ]
     },
     "execution_count": 74,
     "metadata": {},
     "output_type": "execute_result"
    }
   ],
   "source": [
    "a.prod()               # To get dot product of array values if axis is specified then it gives dot product axis wise"
   ]
  },
  {
   "cell_type": "code",
   "execution_count": 75,
   "id": "8cb3f7fb",
   "metadata": {},
   "outputs": [
    {
     "data": {
      "text/plain": [
       "array([[ 120,  120,  120,  120],\n",
       "       [ 440,  440,  440,  440],\n",
       "       [ 760,  760,  760,  760],\n",
       "       [1080, 1080, 1080, 1080]])"
      ]
     },
     "execution_count": 75,
     "metadata": {},
     "output_type": "execute_result"
    }
   ],
   "source": [
    "np.matmul(a,b)         # To get cross product of array values "
   ]
  },
  {
   "cell_type": "code",
   "execution_count": 76,
   "id": "8d101575",
   "metadata": {},
   "outputs": [
    {
     "data": {
      "text/plain": [
       "array([  0,   1,   3,   6,  10,  15,  21,  28,  36,  45,  55,  66,  78,\n",
       "        91, 105, 120], dtype=int32)"
      ]
     },
     "execution_count": 76,
     "metadata": {},
     "output_type": "execute_result"
    }
   ],
   "source": [
    "a.cumsum()             # To get cumulative addition of array values if axis is specified then it cumulative addition axis wise               "
   ]
  },
  {
   "cell_type": "code",
   "execution_count": 77,
   "id": "f3b18c46",
   "metadata": {},
   "outputs": [
    {
     "data": {
      "text/plain": [
       "array([0, 0, 0, 0, 0, 0, 0, 0, 0, 0, 0, 0, 0, 0, 0, 0], dtype=int32)"
      ]
     },
     "execution_count": 77,
     "metadata": {},
     "output_type": "execute_result"
    }
   ],
   "source": [
    "a.cumprod()     # To get cumulative product of array values if axis is specified then it cumulative product axis wise "
   ]
  }
 ],
 "metadata": {
  "kernelspec": {
   "display_name": "Python 3",
   "language": "python",
   "name": "python3"
  },
  "language_info": {
   "codemirror_mode": {
    "name": "ipython",
    "version": 3
   },
   "file_extension": ".py",
   "mimetype": "text/x-python",
   "name": "python",
   "nbconvert_exporter": "python",
   "pygments_lexer": "ipython3",
   "version": "3.8.8"
  }
 },
 "nbformat": 4,
 "nbformat_minor": 5
}
