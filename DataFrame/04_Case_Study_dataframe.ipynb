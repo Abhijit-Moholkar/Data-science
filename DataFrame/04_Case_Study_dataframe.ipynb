{
 "cells": [
  {
   "cell_type": "markdown",
   "id": "fcbbd082",
   "metadata": {},
   "source": [
    "## Case Study1:\n",
    "\n",
    "To demonstrate operations on sample DataFrame"
   ]
  },
  {
   "cell_type": "markdown",
   "id": "7ba0d582",
   "metadata": {},
   "source": [
    "##### Import required libraries"
   ]
  },
  {
   "cell_type": "code",
   "execution_count": 1,
   "id": "9f8f4cdc",
   "metadata": {},
   "outputs": [],
   "source": [
    "import pandas as pd"
   ]
  },
  {
   "cell_type": "code",
   "execution_count": 2,
   "id": "97c626d2",
   "metadata": {},
   "outputs": [
    {
     "data": {
      "text/html": [
       "<div>\n",
       "<style scoped>\n",
       "    .dataframe tbody tr th:only-of-type {\n",
       "        vertical-align: middle;\n",
       "    }\n",
       "\n",
       "    .dataframe tbody tr th {\n",
       "        vertical-align: top;\n",
       "    }\n",
       "\n",
       "    .dataframe thead th {\n",
       "        text-align: right;\n",
       "    }\n",
       "</style>\n",
       "<table border=\"1\" class=\"dataframe\">\n",
       "  <thead>\n",
       "    <tr style=\"text-align: right;\">\n",
       "      <th></th>\n",
       "      <th>name</th>\n",
       "      <th>place</th>\n",
       "      <th>age</th>\n",
       "    </tr>\n",
       "  </thead>\n",
       "  <tbody>\n",
       "    <tr>\n",
       "      <th>0</th>\n",
       "      <td>Ashwin</td>\n",
       "      <td>Pune</td>\n",
       "      <td>42</td>\n",
       "    </tr>\n",
       "    <tr>\n",
       "      <th>1</th>\n",
       "      <td>Sanjay</td>\n",
       "      <td>Satara</td>\n",
       "      <td>20</td>\n",
       "    </tr>\n",
       "    <tr>\n",
       "      <th>2</th>\n",
       "      <td>Smita</td>\n",
       "      <td>Sangli</td>\n",
       "      <td>25</td>\n",
       "    </tr>\n",
       "    <tr>\n",
       "      <th>3</th>\n",
       "      <td>Vaibhav</td>\n",
       "      <td>Solapur</td>\n",
       "      <td>36</td>\n",
       "    </tr>\n",
       "    <tr>\n",
       "      <th>4</th>\n",
       "      <td>Abhijeet</td>\n",
       "      <td>Kolhapur</td>\n",
       "      <td>28</td>\n",
       "    </tr>\n",
       "    <tr>\n",
       "      <th>5</th>\n",
       "      <td>Mahadev</td>\n",
       "      <td>Pune</td>\n",
       "      <td>24</td>\n",
       "    </tr>\n",
       "    <tr>\n",
       "      <th>6</th>\n",
       "      <td>Supriya</td>\n",
       "      <td>Satara</td>\n",
       "      <td>45</td>\n",
       "    </tr>\n",
       "    <tr>\n",
       "      <th>7</th>\n",
       "      <td>Pallavi</td>\n",
       "      <td>Sangli</td>\n",
       "      <td>25</td>\n",
       "    </tr>\n",
       "    <tr>\n",
       "      <th>8</th>\n",
       "      <td>Sumeet</td>\n",
       "      <td>Solapur</td>\n",
       "      <td>21</td>\n",
       "    </tr>\n",
       "    <tr>\n",
       "      <th>9</th>\n",
       "      <td>Chidambar</td>\n",
       "      <td>Pune</td>\n",
       "      <td>19</td>\n",
       "    </tr>\n",
       "    <tr>\n",
       "      <th>10</th>\n",
       "      <td>Subhash</td>\n",
       "      <td>Satara</td>\n",
       "      <td>45</td>\n",
       "    </tr>\n",
       "  </tbody>\n",
       "</table>\n",
       "</div>"
      ],
      "text/plain": [
       "         name     place  age\n",
       "0      Ashwin      Pune   42\n",
       "1      Sanjay    Satara   20\n",
       "2       Smita    Sangli   25\n",
       "3     Vaibhav   Solapur   36\n",
       "4    Abhijeet  Kolhapur   28\n",
       "5     Mahadev      Pune   24\n",
       "6     Supriya    Satara   45\n",
       "7     Pallavi    Sangli   25\n",
       "8      Sumeet   Solapur   21\n",
       "9   Chidambar      Pune   19\n",
       "10    Subhash    Satara   45"
      ]
     },
     "execution_count": 2,
     "metadata": {},
     "output_type": "execute_result"
    }
   ],
   "source": [
    "# Create DataFrame\n",
    "\n",
    "df = pd.DataFrame({'name':['Ashwin','Sanjay','Smita','Vaibhav','Abhijeet','Mahadev','Supriya','Pallavi','Sumeet','Chidambar','Subhash'],\n",
    "                  'place':['Pune','Satara','Sangli','Solapur','Kolhapur','Pune','Satara','Sangli','Solapur','Pune','Satara'],\n",
    "                  'age':[42,20,25,36,28,24,45,25,21,19,45]})\n",
    "df"
   ]
  },
  {
   "cell_type": "code",
   "execution_count": 3,
   "id": "17924d89",
   "metadata": {},
   "outputs": [
    {
     "data": {
      "text/plain": [
       "11"
      ]
     },
     "execution_count": 3,
     "metadata": {},
     "output_type": "execute_result"
    }
   ],
   "source": [
    "# Get number of records in DataFrame\n",
    "\n",
    "len(df)"
   ]
  },
  {
   "cell_type": "raw",
   "id": "fd1777a2",
   "metadata": {},
   "source": [
    "Techniques to get coun of record\n",
    "\n",
    "df.shape[0]"
   ]
  },
  {
   "cell_type": "code",
   "execution_count": 4,
   "id": "597fa677",
   "metadata": {},
   "outputs": [
    {
     "name": "stdout",
     "output_type": "stream",
     "text": [
      "['Ashwin', 'Sanjay', 'Smita', 'Vaibhav', 'Abhijeet', 'Mahadev', 'Supriya', 'Pallavi', 'Sumeet', 'Chidambar', 'Subhash']\n"
     ]
    }
   ],
   "source": [
    "# Get list of all entries in any column\n",
    "\n",
    "print(df.name.tolist())"
   ]
  },
  {
   "cell_type": "code",
   "execution_count": 5,
   "id": "20531dba",
   "metadata": {},
   "outputs": [
    {
     "name": "stdout",
     "output_type": "stream",
     "text": [
      "{'name': {0: 'Ashwin', 1: 'Sanjay', 2: 'Smita', 3: 'Vaibhav', 4: 'Abhijeet', 5: 'Mahadev', 6: 'Supriya', 7: 'Pallavi', 8: 'Sumeet', 9: 'Chidambar', 10: 'Subhash'}, 'place': {0: 'Pune', 1: 'Satara', 2: 'Sangli', 3: 'Solapur', 4: 'Kolhapur', 5: 'Pune', 6: 'Satara', 7: 'Sangli', 8: 'Solapur', 9: 'Pune', 10: 'Satara'}, 'age': {0: 42, 1: 20, 2: 25, 3: 36, 4: 28, 5: 24, 6: 45, 7: 25, 8: 21, 9: 19, 10: 45}}\n"
     ]
    }
   ],
   "source": [
    "# Get DataFrame in the format of dictionary\n",
    "\n",
    "print(df.to_dict())"
   ]
  },
  {
   "cell_type": "raw",
   "id": "4a507ac1",
   "metadata": {},
   "source": [
    "It can be possible using\n",
    "\n",
    "dict(df.name)"
   ]
  },
  {
   "cell_type": "code",
   "execution_count": 6,
   "id": "4968aee9",
   "metadata": {},
   "outputs": [
    {
     "data": {
      "text/plain": [
       "array(['Ashwin', 'Sanjay', 'Smita', 'Vaibhav', 'Abhijeet', 'Mahadev',\n",
       "       'Supriya', 'Pallavi', 'Sumeet', 'Chidambar', 'Subhash'],\n",
       "      dtype=object)"
      ]
     },
     "execution_count": 6,
     "metadata": {},
     "output_type": "execute_result"
    }
   ],
   "source": [
    "# Get single column as an array\n",
    "\n",
    "df.name.values"
   ]
  },
  {
   "cell_type": "code",
   "execution_count": 7,
   "id": "890e038c",
   "metadata": {},
   "outputs": [
    {
     "data": {
      "text/plain": [
       "Index(['name', 'place', 'age'], dtype='object')"
      ]
     },
     "execution_count": 7,
     "metadata": {},
     "output_type": "execute_result"
    }
   ],
   "source": [
    "# Get list of columns\n",
    "\n",
    "df.columns"
   ]
  },
  {
   "cell_type": "code",
   "execution_count": 8,
   "id": "7a904a16",
   "metadata": {},
   "outputs": [
    {
     "data": {
      "text/html": [
       "<div>\n",
       "<style scoped>\n",
       "    .dataframe tbody tr th:only-of-type {\n",
       "        vertical-align: middle;\n",
       "    }\n",
       "\n",
       "    .dataframe tbody tr th {\n",
       "        vertical-align: top;\n",
       "    }\n",
       "\n",
       "    .dataframe thead th {\n",
       "        text-align: right;\n",
       "    }\n",
       "</style>\n",
       "<table border=\"1\" class=\"dataframe\">\n",
       "  <thead>\n",
       "    <tr style=\"text-align: right;\">\n",
       "      <th></th>\n",
       "      <th>name</th>\n",
       "      <th>place</th>\n",
       "      <th>age</th>\n",
       "    </tr>\n",
       "  </thead>\n",
       "  <tbody>\n",
       "    <tr>\n",
       "      <th>0</th>\n",
       "      <td>Ashwin</td>\n",
       "      <td>Pune</td>\n",
       "      <td>42</td>\n",
       "    </tr>\n",
       "    <tr>\n",
       "      <th>1</th>\n",
       "      <td>Sanjay</td>\n",
       "      <td>Satara</td>\n",
       "      <td>20</td>\n",
       "    </tr>\n",
       "  </tbody>\n",
       "</table>\n",
       "</div>"
      ],
      "text/plain": [
       "     name   place  age\n",
       "0  Ashwin    Pune   42\n",
       "1  Sanjay  Satara   20"
      ]
     },
     "execution_count": 8,
     "metadata": {},
     "output_type": "execute_result"
    }
   ],
   "source": [
    "# Get first two records\n",
    "\n",
    "df.head(2)"
   ]
  },
  {
   "cell_type": "raw",
   "id": "9d58dcf7",
   "metadata": {},
   "source": [
    "It can be possible using slicing\n",
    "df[:2]"
   ]
  },
  {
   "cell_type": "code",
   "execution_count": 9,
   "id": "8ad5913e",
   "metadata": {},
   "outputs": [
    {
     "data": {
      "text/html": [
       "<div>\n",
       "<style scoped>\n",
       "    .dataframe tbody tr th:only-of-type {\n",
       "        vertical-align: middle;\n",
       "    }\n",
       "\n",
       "    .dataframe tbody tr th {\n",
       "        vertical-align: top;\n",
       "    }\n",
       "\n",
       "    .dataframe thead th {\n",
       "        text-align: right;\n",
       "    }\n",
       "</style>\n",
       "<table border=\"1\" class=\"dataframe\">\n",
       "  <thead>\n",
       "    <tr style=\"text-align: right;\">\n",
       "      <th></th>\n",
       "      <th>name</th>\n",
       "      <th>place</th>\n",
       "      <th>age</th>\n",
       "    </tr>\n",
       "  </thead>\n",
       "  <tbody>\n",
       "    <tr>\n",
       "      <th>9</th>\n",
       "      <td>Chidambar</td>\n",
       "      <td>Pune</td>\n",
       "      <td>19</td>\n",
       "    </tr>\n",
       "    <tr>\n",
       "      <th>10</th>\n",
       "      <td>Subhash</td>\n",
       "      <td>Satara</td>\n",
       "      <td>45</td>\n",
       "    </tr>\n",
       "  </tbody>\n",
       "</table>\n",
       "</div>"
      ],
      "text/plain": [
       "         name   place  age\n",
       "9   Chidambar    Pune   19\n",
       "10    Subhash  Satara   45"
      ]
     },
     "execution_count": 9,
     "metadata": {},
     "output_type": "execute_result"
    }
   ],
   "source": [
    "# Get last two records\n",
    "\n",
    "df.tail(2)"
   ]
  },
  {
   "cell_type": "raw",
   "id": "114c9f16",
   "metadata": {},
   "source": [
    "It can be possible using slicing\n",
    "df[-2::]"
   ]
  },
  {
   "cell_type": "code",
   "execution_count": 10,
   "id": "72158bf6",
   "metadata": {},
   "outputs": [
    {
     "data": {
      "text/html": [
       "<div>\n",
       "<style scoped>\n",
       "    .dataframe tbody tr th:only-of-type {\n",
       "        vertical-align: middle;\n",
       "    }\n",
       "\n",
       "    .dataframe tbody tr th {\n",
       "        vertical-align: top;\n",
       "    }\n",
       "\n",
       "    .dataframe thead th {\n",
       "        text-align: right;\n",
       "    }\n",
       "</style>\n",
       "<table border=\"1\" class=\"dataframe\">\n",
       "  <thead>\n",
       "    <tr style=\"text-align: right;\">\n",
       "      <th></th>\n",
       "      <th>name</th>\n",
       "      <th>place</th>\n",
       "      <th>age</th>\n",
       "    </tr>\n",
       "  </thead>\n",
       "  <tbody>\n",
       "    <tr>\n",
       "      <th>6</th>\n",
       "      <td>Supriya</td>\n",
       "      <td>Satara</td>\n",
       "      <td>45</td>\n",
       "    </tr>\n",
       "    <tr>\n",
       "      <th>10</th>\n",
       "      <td>Subhash</td>\n",
       "      <td>Satara</td>\n",
       "      <td>45</td>\n",
       "    </tr>\n",
       "  </tbody>\n",
       "</table>\n",
       "</div>"
      ],
      "text/plain": [
       "       name   place  age\n",
       "6   Supriya  Satara   45\n",
       "10  Subhash  Satara   45"
      ]
     },
     "execution_count": 10,
     "metadata": {},
     "output_type": "execute_result"
    }
   ],
   "source": [
    "# Get records where age is grater than 42\n",
    "\n",
    "df[df.age>42]"
   ]
  },
  {
   "cell_type": "raw",
   "id": "61813a43",
   "metadata": {},
   "source": [
    "It can be possible using query\n",
    "\n",
    "df.query('age>42')"
   ]
  },
  {
   "cell_type": "code",
   "execution_count": 11,
   "id": "878ac765",
   "metadata": {},
   "outputs": [
    {
     "data": {
      "text/plain": [
       "4    Abhijeet\n",
       "Name: name, dtype: object"
      ]
     },
     "execution_count": 11,
     "metadata": {},
     "output_type": "execute_result"
    }
   ],
   "source": [
    "# Get name of an emp who is from Kolhapur \n",
    "\n",
    "df[df.place=='Kolhapur']['name']"
   ]
  },
  {
   "cell_type": "code",
   "execution_count": 12,
   "id": "5a1fee60",
   "metadata": {},
   "outputs": [
    {
     "data": {
      "text/plain": [
       "Pune        3\n",
       "Satara      3\n",
       "Solapur     2\n",
       "Sangli      2\n",
       "Kolhapur    1\n",
       "Name: place, dtype: int64"
      ]
     },
     "execution_count": 12,
     "metadata": {},
     "output_type": "execute_result"
    }
   ],
   "source": [
    "# Get count of Employee from unique places\n",
    "\n",
    "df.place.value_counts()"
   ]
  },
  {
   "cell_type": "code",
   "execution_count": 13,
   "id": "1d593903",
   "metadata": {},
   "outputs": [
    {
     "data": {
      "text/plain": [
       "array(['Pune', 'Satara', 'Sangli', 'Solapur', 'Kolhapur'], dtype=object)"
      ]
     },
     "execution_count": 13,
     "metadata": {},
     "output_type": "execute_result"
    }
   ],
   "source": [
    "# List out unique places\n",
    "\n",
    "df.place.unique()"
   ]
  },
  {
   "cell_type": "code",
   "execution_count": 14,
   "id": "58f15c05",
   "metadata": {},
   "outputs": [
    {
     "data": {
      "text/plain": [
       "5"
      ]
     },
     "execution_count": 14,
     "metadata": {},
     "output_type": "execute_result"
    }
   ],
   "source": [
    "# Get count of the unique places\n",
    "\n",
    "df.place.nunique()"
   ]
  },
  {
   "cell_type": "code",
   "execution_count": 15,
   "id": "c6ecad6e",
   "metadata": {},
   "outputs": [
    {
     "data": {
      "text/html": [
       "<div>\n",
       "<style scoped>\n",
       "    .dataframe tbody tr th:only-of-type {\n",
       "        vertical-align: middle;\n",
       "    }\n",
       "\n",
       "    .dataframe tbody tr th {\n",
       "        vertical-align: top;\n",
       "    }\n",
       "\n",
       "    .dataframe thead th {\n",
       "        text-align: right;\n",
       "    }\n",
       "</style>\n",
       "<table border=\"1\" class=\"dataframe\">\n",
       "  <thead>\n",
       "    <tr style=\"text-align: right;\">\n",
       "      <th></th>\n",
       "      <th>name</th>\n",
       "      <th>place</th>\n",
       "      <th>age</th>\n",
       "    </tr>\n",
       "  </thead>\n",
       "  <tbody>\n",
       "    <tr>\n",
       "      <th>0</th>\n",
       "      <td>Ashwin</td>\n",
       "      <td>Pune</td>\n",
       "      <td>42</td>\n",
       "    </tr>\n",
       "    <tr>\n",
       "      <th>5</th>\n",
       "      <td>Mahadev</td>\n",
       "      <td>Pune</td>\n",
       "      <td>24</td>\n",
       "    </tr>\n",
       "    <tr>\n",
       "      <th>9</th>\n",
       "      <td>Chidambar</td>\n",
       "      <td>Pune</td>\n",
       "      <td>19</td>\n",
       "    </tr>\n",
       "  </tbody>\n",
       "</table>\n",
       "</div>"
      ],
      "text/plain": [
       "        name place  age\n",
       "0     Ashwin  Pune   42\n",
       "5    Mahadev  Pune   24\n",
       "9  Chidambar  Pune   19"
      ]
     },
     "execution_count": 15,
     "metadata": {},
     "output_type": "execute_result"
    }
   ],
   "source": [
    "# Get records from pune location\n",
    "\n",
    "df[df.place=='Pune']"
   ]
  },
  {
   "cell_type": "code",
   "execution_count": 16,
   "id": "b95a4516",
   "metadata": {},
   "outputs": [
    {
     "data": {
      "text/html": [
       "<div>\n",
       "<style scoped>\n",
       "    .dataframe tbody tr th:only-of-type {\n",
       "        vertical-align: middle;\n",
       "    }\n",
       "\n",
       "    .dataframe tbody tr th {\n",
       "        vertical-align: top;\n",
       "    }\n",
       "\n",
       "    .dataframe thead th {\n",
       "        text-align: right;\n",
       "    }\n",
       "</style>\n",
       "<table border=\"1\" class=\"dataframe\">\n",
       "  <thead>\n",
       "    <tr style=\"text-align: right;\">\n",
       "      <th></th>\n",
       "      <th>name</th>\n",
       "      <th>place</th>\n",
       "      <th>age</th>\n",
       "    </tr>\n",
       "  </thead>\n",
       "  <tbody>\n",
       "    <tr>\n",
       "      <th>9</th>\n",
       "      <td>Chidambar</td>\n",
       "      <td>Pune</td>\n",
       "      <td>19</td>\n",
       "    </tr>\n",
       "  </tbody>\n",
       "</table>\n",
       "</div>"
      ],
      "text/plain": [
       "        name place  age\n",
       "9  Chidambar  Pune   19"
      ]
     },
     "execution_count": 16,
     "metadata": {},
     "output_type": "execute_result"
    }
   ],
   "source": [
    "# Get name of emp. whose age is min\n",
    "\n",
    "df[df['age']==min(df.age)]"
   ]
  },
  {
   "cell_type": "code",
   "execution_count": 17,
   "id": "1d200fe0",
   "metadata": {},
   "outputs": [
    {
     "data": {
      "text/html": [
       "<div>\n",
       "<style scoped>\n",
       "    .dataframe tbody tr th:only-of-type {\n",
       "        vertical-align: middle;\n",
       "    }\n",
       "\n",
       "    .dataframe tbody tr th {\n",
       "        vertical-align: top;\n",
       "    }\n",
       "\n",
       "    .dataframe thead th {\n",
       "        text-align: right;\n",
       "    }\n",
       "</style>\n",
       "<table border=\"1\" class=\"dataframe\">\n",
       "  <thead>\n",
       "    <tr style=\"text-align: right;\">\n",
       "      <th></th>\n",
       "      <th>name</th>\n",
       "      <th>place</th>\n",
       "      <th>age</th>\n",
       "    </tr>\n",
       "  </thead>\n",
       "  <tbody>\n",
       "    <tr>\n",
       "      <th>3</th>\n",
       "      <td>Vaibhav</td>\n",
       "      <td>Solapur</td>\n",
       "      <td>36</td>\n",
       "    </tr>\n",
       "    <tr>\n",
       "      <th>4</th>\n",
       "      <td>Abhijeet</td>\n",
       "      <td>Kolhapur</td>\n",
       "      <td>28</td>\n",
       "    </tr>\n",
       "    <tr>\n",
       "      <th>5</th>\n",
       "      <td>Mahadev</td>\n",
       "      <td>Pune</td>\n",
       "      <td>24</td>\n",
       "    </tr>\n",
       "    <tr>\n",
       "      <th>6</th>\n",
       "      <td>Supriya</td>\n",
       "      <td>Satara</td>\n",
       "      <td>45</td>\n",
       "    </tr>\n",
       "    <tr>\n",
       "      <th>7</th>\n",
       "      <td>Pallavi</td>\n",
       "      <td>Sangli</td>\n",
       "      <td>25</td>\n",
       "    </tr>\n",
       "    <tr>\n",
       "      <th>9</th>\n",
       "      <td>Chidambar</td>\n",
       "      <td>Pune</td>\n",
       "      <td>19</td>\n",
       "    </tr>\n",
       "    <tr>\n",
       "      <th>10</th>\n",
       "      <td>Subhash</td>\n",
       "      <td>Satara</td>\n",
       "      <td>45</td>\n",
       "    </tr>\n",
       "  </tbody>\n",
       "</table>\n",
       "</div>"
      ],
      "text/plain": [
       "         name     place  age\n",
       "3     Vaibhav   Solapur   36\n",
       "4    Abhijeet  Kolhapur   28\n",
       "5     Mahadev      Pune   24\n",
       "6     Supriya    Satara   45\n",
       "7     Pallavi    Sangli   25\n",
       "9   Chidambar      Pune   19\n",
       "10    Subhash    Satara   45"
      ]
     },
     "execution_count": 17,
     "metadata": {},
     "output_type": "execute_result"
    }
   ],
   "source": [
    "# Get record where length of employee name greater than five\n",
    "\n",
    "df[df.name.map(lambda x:len(x)>6)]"
   ]
  },
  {
   "cell_type": "raw",
   "id": "ac7f5de0",
   "metadata": {},
   "source": [
    "Another way to get names\n",
    "\n",
    "df[df.name.apply(len)>6]"
   ]
  },
  {
   "cell_type": "code",
   "execution_count": 18,
   "id": "ca828fff",
   "metadata": {},
   "outputs": [
    {
     "data": {
      "text/html": [
       "<div>\n",
       "<style scoped>\n",
       "    .dataframe tbody tr th:only-of-type {\n",
       "        vertical-align: middle;\n",
       "    }\n",
       "\n",
       "    .dataframe tbody tr th {\n",
       "        vertical-align: top;\n",
       "    }\n",
       "\n",
       "    .dataframe thead th {\n",
       "        text-align: right;\n",
       "    }\n",
       "</style>\n",
       "<table border=\"1\" class=\"dataframe\">\n",
       "  <thead>\n",
       "    <tr style=\"text-align: right;\">\n",
       "      <th></th>\n",
       "      <th>name</th>\n",
       "      <th>place</th>\n",
       "      <th>age</th>\n",
       "    </tr>\n",
       "  </thead>\n",
       "  <tbody>\n",
       "    <tr>\n",
       "      <th>1</th>\n",
       "      <td>Sanjay</td>\n",
       "      <td>Satara</td>\n",
       "      <td>20</td>\n",
       "    </tr>\n",
       "    <tr>\n",
       "      <th>2</th>\n",
       "      <td>Smita</td>\n",
       "      <td>Sangli</td>\n",
       "      <td>25</td>\n",
       "    </tr>\n",
       "    <tr>\n",
       "      <th>6</th>\n",
       "      <td>Supriya</td>\n",
       "      <td>Satara</td>\n",
       "      <td>45</td>\n",
       "    </tr>\n",
       "    <tr>\n",
       "      <th>8</th>\n",
       "      <td>Sumeet</td>\n",
       "      <td>Solapur</td>\n",
       "      <td>21</td>\n",
       "    </tr>\n",
       "    <tr>\n",
       "      <th>10</th>\n",
       "      <td>Subhash</td>\n",
       "      <td>Satara</td>\n",
       "      <td>45</td>\n",
       "    </tr>\n",
       "  </tbody>\n",
       "</table>\n",
       "</div>"
      ],
      "text/plain": [
       "       name    place  age\n",
       "1    Sanjay   Satara   20\n",
       "2     Smita   Sangli   25\n",
       "6   Supriya   Satara   45\n",
       "8    Sumeet  Solapur   21\n",
       "10  Subhash   Satara   45"
      ]
     },
     "execution_count": 18,
     "metadata": {},
     "output_type": "execute_result"
    }
   ],
   "source": [
    "# Get records of dataframe where name starts with 'S'\n",
    "\n",
    "df[df.name.str.startswith('S')]"
   ]
  },
  {
   "cell_type": "code",
   "execution_count": 19,
   "id": "894f75ea",
   "metadata": {},
   "outputs": [
    {
     "data": {
      "text/html": [
       "<div>\n",
       "<style scoped>\n",
       "    .dataframe tbody tr th:only-of-type {\n",
       "        vertical-align: middle;\n",
       "    }\n",
       "\n",
       "    .dataframe tbody tr th {\n",
       "        vertical-align: top;\n",
       "    }\n",
       "\n",
       "    .dataframe thead th {\n",
       "        text-align: right;\n",
       "    }\n",
       "</style>\n",
       "<table border=\"1\" class=\"dataframe\">\n",
       "  <thead>\n",
       "    <tr style=\"text-align: right;\">\n",
       "      <th></th>\n",
       "      <th>name</th>\n",
       "      <th>place</th>\n",
       "      <th>age</th>\n",
       "    </tr>\n",
       "  </thead>\n",
       "  <tbody>\n",
       "    <tr>\n",
       "      <th>1</th>\n",
       "      <td>Sanjay</td>\n",
       "      <td>Satara</td>\n",
       "      <td>20</td>\n",
       "    </tr>\n",
       "    <tr>\n",
       "      <th>3</th>\n",
       "      <td>Vaibhav</td>\n",
       "      <td>Solapur</td>\n",
       "      <td>36</td>\n",
       "    </tr>\n",
       "    <tr>\n",
       "      <th>4</th>\n",
       "      <td>Abhijeet</td>\n",
       "      <td>Kolhapur</td>\n",
       "      <td>28</td>\n",
       "    </tr>\n",
       "    <tr>\n",
       "      <th>5</th>\n",
       "      <td>Mahadev</td>\n",
       "      <td>Pune</td>\n",
       "      <td>24</td>\n",
       "    </tr>\n",
       "  </tbody>\n",
       "</table>\n",
       "</div>"
      ],
      "text/plain": [
       "       name     place  age\n",
       "1    Sanjay    Satara   20\n",
       "3   Vaibhav   Solapur   36\n",
       "4  Abhijeet  Kolhapur   28\n",
       "5   Mahadev      Pune   24"
      ]
     },
     "execution_count": 19,
     "metadata": {},
     "output_type": "execute_result"
    }
   ],
   "source": [
    "# Get Records of dataframe where age is multiple of 4\n",
    "\n",
    "df[df.age%4==0]"
   ]
  },
  {
   "cell_type": "code",
   "execution_count": 20,
   "id": "91baa8e9",
   "metadata": {},
   "outputs": [
    {
     "data": {
      "text/plain": [
       "0            1\n",
       "1            2\n",
       "2       Sangli\n",
       "3      Solapur\n",
       "4     Kolhapur\n",
       "5            1\n",
       "6            2\n",
       "7       Sangli\n",
       "8      Solapur\n",
       "9            1\n",
       "10           2\n",
       "Name: place, dtype: object"
      ]
     },
     "execution_count": 20,
     "metadata": {},
     "output_type": "execute_result"
    }
   ],
   "source": [
    "# Replace pune by 1 and satara by 2 in dataframe\n",
    "\n",
    "df.place.str.replace('Pune','1').replace('Satara','2')"
   ]
  },
  {
   "cell_type": "raw",
   "id": "2bf9cad5",
   "metadata": {},
   "source": [
    "It can be possible using map function, but it will insert NaN for remaining values and floating point 1 & 2. If all values will get replaced then they are in integer.\n",
    "\n",
    "df.place.map({'Pune':1,'Satara':2}) \n",
    "\n",
    "This replacement can be possible using function\n",
    "\n",
    "def sample(s):\n",
    "    if s=='Pune':\n",
    "        return 1\n",
    "df.place.apply(sample)"
   ]
  },
  {
   "cell_type": "code",
   "execution_count": 21,
   "id": "5b0cc955",
   "metadata": {},
   "outputs": [
    {
     "data": {
      "text/plain": [
       "2    Sangli\n",
       "6    Satara\n",
       "Name: place, dtype: object"
      ]
     },
     "execution_count": 21,
     "metadata": {},
     "output_type": "execute_result"
    }
   ],
   "source": [
    "# Get place of an employee whose name endswith 'a'\n",
    "\n",
    "df[df.name.str.endswith('a')]['place']"
   ]
  },
  {
   "cell_type": "code",
   "execution_count": 22,
   "id": "d0f258ca",
   "metadata": {},
   "outputs": [
    {
     "data": {
      "text/plain": [
       "4    28\n",
       "Name: age, dtype: int64"
      ]
     },
     "execution_count": 22,
     "metadata": {},
     "output_type": "execute_result"
    }
   ],
   "source": [
    "# Get age of specific eployee\n",
    "\n",
    "df[df.name=='Abhijeet']['age']"
   ]
  },
  {
   "cell_type": "code",
   "execution_count": 23,
   "id": "bcb2d793",
   "metadata": {},
   "outputs": [
    {
     "data": {
      "text/html": [
       "<div>\n",
       "<style scoped>\n",
       "    .dataframe tbody tr th:only-of-type {\n",
       "        vertical-align: middle;\n",
       "    }\n",
       "\n",
       "    .dataframe tbody tr th {\n",
       "        vertical-align: top;\n",
       "    }\n",
       "\n",
       "    .dataframe thead th {\n",
       "        text-align: right;\n",
       "    }\n",
       "</style>\n",
       "<table border=\"1\" class=\"dataframe\">\n",
       "  <thead>\n",
       "    <tr style=\"text-align: right;\">\n",
       "      <th></th>\n",
       "      <th>name</th>\n",
       "      <th>place</th>\n",
       "      <th>age</th>\n",
       "    </tr>\n",
       "  </thead>\n",
       "  <tbody>\n",
       "    <tr>\n",
       "      <th>1</th>\n",
       "      <td>Sanjay</td>\n",
       "      <td>Satara</td>\n",
       "      <td>20</td>\n",
       "    </tr>\n",
       "    <tr>\n",
       "      <th>6</th>\n",
       "      <td>Supriya</td>\n",
       "      <td>Satara</td>\n",
       "      <td>45</td>\n",
       "    </tr>\n",
       "    <tr>\n",
       "      <th>10</th>\n",
       "      <td>Subhash</td>\n",
       "      <td>Satara</td>\n",
       "      <td>45</td>\n",
       "    </tr>\n",
       "  </tbody>\n",
       "</table>\n",
       "</div>"
      ],
      "text/plain": [
       "       name   place  age\n",
       "1    Sanjay  Satara   20\n",
       "6   Supriya  Satara   45\n",
       "10  Subhash  Satara   45"
      ]
     },
     "execution_count": 23,
     "metadata": {},
     "output_type": "execute_result"
    }
   ],
   "source": [
    "# Get records of an employees from place Satara\n",
    "\n",
    "df[df.place=='Satara']"
   ]
  },
  {
   "cell_type": "code",
   "execution_count": 24,
   "id": "636996b3",
   "metadata": {},
   "outputs": [
    {
     "data": {
      "text/html": [
       "<div>\n",
       "<style scoped>\n",
       "    .dataframe tbody tr th:only-of-type {\n",
       "        vertical-align: middle;\n",
       "    }\n",
       "\n",
       "    .dataframe tbody tr th {\n",
       "        vertical-align: top;\n",
       "    }\n",
       "\n",
       "    .dataframe thead th {\n",
       "        text-align: right;\n",
       "    }\n",
       "</style>\n",
       "<table border=\"1\" class=\"dataframe\">\n",
       "  <thead>\n",
       "    <tr style=\"text-align: right;\">\n",
       "      <th></th>\n",
       "      <th>name</th>\n",
       "      <th>age</th>\n",
       "    </tr>\n",
       "  </thead>\n",
       "  <tbody>\n",
       "    <tr>\n",
       "      <th>2</th>\n",
       "      <td>Smita</td>\n",
       "      <td>25</td>\n",
       "    </tr>\n",
       "    <tr>\n",
       "      <th>7</th>\n",
       "      <td>Pallavi</td>\n",
       "      <td>25</td>\n",
       "    </tr>\n",
       "  </tbody>\n",
       "</table>\n",
       "</div>"
      ],
      "text/plain": [
       "      name  age\n",
       "2    Smita   25\n",
       "7  Pallavi   25"
      ]
     },
     "execution_count": 24,
     "metadata": {},
     "output_type": "execute_result"
    }
   ],
   "source": [
    "# Get name and age of an employee from Sangli location\n",
    "\n",
    "df[df.place=='Sangli'][['name','age']]"
   ]
  },
  {
   "cell_type": "code",
   "execution_count": 25,
   "id": "3de81ed2",
   "metadata": {},
   "outputs": [
    {
     "data": {
      "text/html": [
       "<div>\n",
       "<style scoped>\n",
       "    .dataframe tbody tr th:only-of-type {\n",
       "        vertical-align: middle;\n",
       "    }\n",
       "\n",
       "    .dataframe tbody tr th {\n",
       "        vertical-align: top;\n",
       "    }\n",
       "\n",
       "    .dataframe thead th {\n",
       "        text-align: right;\n",
       "    }\n",
       "</style>\n",
       "<table border=\"1\" class=\"dataframe\">\n",
       "  <thead>\n",
       "    <tr style=\"text-align: right;\">\n",
       "      <th></th>\n",
       "      <th>name</th>\n",
       "      <th>place</th>\n",
       "      <th>age</th>\n",
       "      <th>designation</th>\n",
       "    </tr>\n",
       "  </thead>\n",
       "  <tbody>\n",
       "    <tr>\n",
       "      <th>0</th>\n",
       "      <td>Ashwin</td>\n",
       "      <td>Pune</td>\n",
       "      <td>42</td>\n",
       "      <td>developer</td>\n",
       "    </tr>\n",
       "    <tr>\n",
       "      <th>1</th>\n",
       "      <td>Sanjay</td>\n",
       "      <td>Satara</td>\n",
       "      <td>20</td>\n",
       "      <td>tester</td>\n",
       "    </tr>\n",
       "    <tr>\n",
       "      <th>2</th>\n",
       "      <td>Smita</td>\n",
       "      <td>Sangli</td>\n",
       "      <td>25</td>\n",
       "      <td>designer</td>\n",
       "    </tr>\n",
       "    <tr>\n",
       "      <th>3</th>\n",
       "      <td>Vaibhav</td>\n",
       "      <td>Solapur</td>\n",
       "      <td>36</td>\n",
       "      <td>analyser</td>\n",
       "    </tr>\n",
       "    <tr>\n",
       "      <th>4</th>\n",
       "      <td>Abhijeet</td>\n",
       "      <td>Kolhapur</td>\n",
       "      <td>28</td>\n",
       "      <td>developer</td>\n",
       "    </tr>\n",
       "    <tr>\n",
       "      <th>5</th>\n",
       "      <td>Mahadev</td>\n",
       "      <td>Pune</td>\n",
       "      <td>24</td>\n",
       "      <td>developer</td>\n",
       "    </tr>\n",
       "    <tr>\n",
       "      <th>6</th>\n",
       "      <td>Supriya</td>\n",
       "      <td>Satara</td>\n",
       "      <td>45</td>\n",
       "      <td>tester</td>\n",
       "    </tr>\n",
       "    <tr>\n",
       "      <th>7</th>\n",
       "      <td>Pallavi</td>\n",
       "      <td>Sangli</td>\n",
       "      <td>25</td>\n",
       "      <td>designer</td>\n",
       "    </tr>\n",
       "    <tr>\n",
       "      <th>8</th>\n",
       "      <td>Sumeet</td>\n",
       "      <td>Solapur</td>\n",
       "      <td>21</td>\n",
       "      <td>analyser</td>\n",
       "    </tr>\n",
       "    <tr>\n",
       "      <th>9</th>\n",
       "      <td>Chidambar</td>\n",
       "      <td>Pune</td>\n",
       "      <td>19</td>\n",
       "      <td>developer</td>\n",
       "    </tr>\n",
       "    <tr>\n",
       "      <th>10</th>\n",
       "      <td>Subhash</td>\n",
       "      <td>Satara</td>\n",
       "      <td>45</td>\n",
       "      <td>tester</td>\n",
       "    </tr>\n",
       "  </tbody>\n",
       "</table>\n",
       "</div>"
      ],
      "text/plain": [
       "         name     place  age designation\n",
       "0      Ashwin      Pune   42   developer\n",
       "1      Sanjay    Satara   20      tester\n",
       "2       Smita    Sangli   25    designer\n",
       "3     Vaibhav   Solapur   36    analyser\n",
       "4    Abhijeet  Kolhapur   28   developer\n",
       "5     Mahadev      Pune   24   developer\n",
       "6     Supriya    Satara   45      tester\n",
       "7     Pallavi    Sangli   25    designer\n",
       "8      Sumeet   Solapur   21    analyser\n",
       "9   Chidambar      Pune   19   developer\n",
       "10    Subhash    Satara   45      tester"
      ]
     },
     "execution_count": 25,
     "metadata": {},
     "output_type": "execute_result"
    }
   ],
   "source": [
    "# Add a column with designation\n",
    "\n",
    "df['designation']=['developer','tester','designer','analyser','developer','developer','tester','designer','analyser','developer','tester']\n",
    "df"
   ]
  },
  {
   "cell_type": "code",
   "execution_count": 26,
   "id": "59b0a098",
   "metadata": {},
   "outputs": [
    {
     "data": {
      "text/html": [
       "<div>\n",
       "<style scoped>\n",
       "    .dataframe tbody tr th:only-of-type {\n",
       "        vertical-align: middle;\n",
       "    }\n",
       "\n",
       "    .dataframe tbody tr th {\n",
       "        vertical-align: top;\n",
       "    }\n",
       "\n",
       "    .dataframe thead th {\n",
       "        text-align: right;\n",
       "    }\n",
       "</style>\n",
       "<table border=\"1\" class=\"dataframe\">\n",
       "  <thead>\n",
       "    <tr style=\"text-align: right;\">\n",
       "      <th></th>\n",
       "      <th>name</th>\n",
       "      <th>place</th>\n",
       "      <th>age</th>\n",
       "      <th>designation</th>\n",
       "    </tr>\n",
       "  </thead>\n",
       "  <tbody>\n",
       "    <tr>\n",
       "      <th>5</th>\n",
       "      <td>Mahadev</td>\n",
       "      <td>Pune</td>\n",
       "      <td>24</td>\n",
       "      <td>developer</td>\n",
       "    </tr>\n",
       "    <tr>\n",
       "      <th>6</th>\n",
       "      <td>Supriya</td>\n",
       "      <td>Satara</td>\n",
       "      <td>45</td>\n",
       "      <td>tester</td>\n",
       "    </tr>\n",
       "    <tr>\n",
       "      <th>7</th>\n",
       "      <td>Pallavi</td>\n",
       "      <td>Sangli</td>\n",
       "      <td>25</td>\n",
       "      <td>designer</td>\n",
       "    </tr>\n",
       "    <tr>\n",
       "      <th>8</th>\n",
       "      <td>Sumeet</td>\n",
       "      <td>Solapur</td>\n",
       "      <td>21</td>\n",
       "      <td>analyser</td>\n",
       "    </tr>\n",
       "    <tr>\n",
       "      <th>9</th>\n",
       "      <td>Chidambar</td>\n",
       "      <td>Pune</td>\n",
       "      <td>19</td>\n",
       "      <td>developer</td>\n",
       "    </tr>\n",
       "    <tr>\n",
       "      <th>10</th>\n",
       "      <td>Subhash</td>\n",
       "      <td>Satara</td>\n",
       "      <td>45</td>\n",
       "      <td>tester</td>\n",
       "    </tr>\n",
       "  </tbody>\n",
       "</table>\n",
       "</div>"
      ],
      "text/plain": [
       "         name    place  age designation\n",
       "5     Mahadev     Pune   24   developer\n",
       "6     Supriya   Satara   45      tester\n",
       "7     Pallavi   Sangli   25    designer\n",
       "8      Sumeet  Solapur   21    analyser\n",
       "9   Chidambar     Pune   19   developer\n",
       "10    Subhash   Satara   45      tester"
      ]
     },
     "execution_count": 26,
     "metadata": {},
     "output_type": "execute_result"
    }
   ],
   "source": [
    "# Get duplicate entry: It will ignore first record and retrieve further records as duplicate records\n",
    "\n",
    "df[df.duplicated('place')]"
   ]
  },
  {
   "cell_type": "raw",
   "id": "88319250",
   "metadata": {},
   "source": [
    "It can be possible like\n",
    "df[df['place'].duplicated()]"
   ]
  },
  {
   "cell_type": "code",
   "execution_count": 27,
   "id": "a50c7379",
   "metadata": {},
   "outputs": [
    {
     "data": {
      "text/html": [
       "<div>\n",
       "<style scoped>\n",
       "    .dataframe tbody tr th:only-of-type {\n",
       "        vertical-align: middle;\n",
       "    }\n",
       "\n",
       "    .dataframe tbody tr th {\n",
       "        vertical-align: top;\n",
       "    }\n",
       "\n",
       "    .dataframe thead th {\n",
       "        text-align: right;\n",
       "    }\n",
       "</style>\n",
       "<table border=\"1\" class=\"dataframe\">\n",
       "  <thead>\n",
       "    <tr style=\"text-align: right;\">\n",
       "      <th></th>\n",
       "      <th>name</th>\n",
       "      <th>place</th>\n",
       "      <th>age</th>\n",
       "      <th>designation</th>\n",
       "    </tr>\n",
       "  </thead>\n",
       "  <tbody>\n",
       "    <tr>\n",
       "      <th>0</th>\n",
       "      <td>Ashwin</td>\n",
       "      <td>Pune</td>\n",
       "      <td>42</td>\n",
       "      <td>developer</td>\n",
       "    </tr>\n",
       "    <tr>\n",
       "      <th>1</th>\n",
       "      <td>Sanjay</td>\n",
       "      <td>Satara</td>\n",
       "      <td>20</td>\n",
       "      <td>tester</td>\n",
       "    </tr>\n",
       "    <tr>\n",
       "      <th>2</th>\n",
       "      <td>Smita</td>\n",
       "      <td>Sangli</td>\n",
       "      <td>25</td>\n",
       "      <td>designer</td>\n",
       "    </tr>\n",
       "    <tr>\n",
       "      <th>3</th>\n",
       "      <td>Vaibhav</td>\n",
       "      <td>Solapur</td>\n",
       "      <td>36</td>\n",
       "      <td>analyser</td>\n",
       "    </tr>\n",
       "    <tr>\n",
       "      <th>5</th>\n",
       "      <td>Mahadev</td>\n",
       "      <td>Pune</td>\n",
       "      <td>24</td>\n",
       "      <td>developer</td>\n",
       "    </tr>\n",
       "    <tr>\n",
       "      <th>6</th>\n",
       "      <td>Supriya</td>\n",
       "      <td>Satara</td>\n",
       "      <td>45</td>\n",
       "      <td>tester</td>\n",
       "    </tr>\n",
       "  </tbody>\n",
       "</table>\n",
       "</div>"
      ],
      "text/plain": [
       "      name    place  age designation\n",
       "0   Ashwin     Pune   42   developer\n",
       "1   Sanjay   Satara   20      tester\n",
       "2    Smita   Sangli   25    designer\n",
       "3  Vaibhav  Solapur   36    analyser\n",
       "5  Mahadev     Pune   24   developer\n",
       "6  Supriya   Satara   45      tester"
      ]
     },
     "execution_count": 27,
     "metadata": {},
     "output_type": "execute_result"
    }
   ],
   "source": [
    "# Get duplicate entry: It will ignore last record and retrieve previous records as duplicate records\n",
    "\n",
    "df[df.duplicated('place',keep='last')]"
   ]
  },
  {
   "cell_type": "code",
   "execution_count": 28,
   "id": "3d40fec8",
   "metadata": {},
   "outputs": [
    {
     "data": {
      "text/html": [
       "<div>\n",
       "<style scoped>\n",
       "    .dataframe tbody tr th:only-of-type {\n",
       "        vertical-align: middle;\n",
       "    }\n",
       "\n",
       "    .dataframe tbody tr th {\n",
       "        vertical-align: top;\n",
       "    }\n",
       "\n",
       "    .dataframe thead th {\n",
       "        text-align: right;\n",
       "    }\n",
       "</style>\n",
       "<table border=\"1\" class=\"dataframe\">\n",
       "  <thead>\n",
       "    <tr style=\"text-align: right;\">\n",
       "      <th></th>\n",
       "      <th>name</th>\n",
       "      <th>place</th>\n",
       "      <th>age</th>\n",
       "      <th>designation</th>\n",
       "    </tr>\n",
       "  </thead>\n",
       "  <tbody>\n",
       "    <tr>\n",
       "      <th>0</th>\n",
       "      <td>Ashwin</td>\n",
       "      <td>Pune</td>\n",
       "      <td>42</td>\n",
       "      <td>developer</td>\n",
       "    </tr>\n",
       "    <tr>\n",
       "      <th>1</th>\n",
       "      <td>Sanjay</td>\n",
       "      <td>Satara</td>\n",
       "      <td>20</td>\n",
       "      <td>tester</td>\n",
       "    </tr>\n",
       "    <tr>\n",
       "      <th>2</th>\n",
       "      <td>Smita</td>\n",
       "      <td>Sangli</td>\n",
       "      <td>25</td>\n",
       "      <td>designer</td>\n",
       "    </tr>\n",
       "    <tr>\n",
       "      <th>3</th>\n",
       "      <td>Vaibhav</td>\n",
       "      <td>Solapur</td>\n",
       "      <td>36</td>\n",
       "      <td>analyser</td>\n",
       "    </tr>\n",
       "    <tr>\n",
       "      <th>4</th>\n",
       "      <td>Abhijeet</td>\n",
       "      <td>Kolhapur</td>\n",
       "      <td>28</td>\n",
       "      <td>developer</td>\n",
       "    </tr>\n",
       "  </tbody>\n",
       "</table>\n",
       "</div>"
      ],
      "text/plain": [
       "       name     place  age designation\n",
       "0    Ashwin      Pune   42   developer\n",
       "1    Sanjay    Satara   20      tester\n",
       "2     Smita    Sangli   25    designer\n",
       "3   Vaibhav   Solapur   36    analyser\n",
       "4  Abhijeet  Kolhapur   28   developer"
      ]
     },
     "execution_count": 28,
     "metadata": {},
     "output_type": "execute_result"
    }
   ],
   "source": [
    "# Drop duplicated records\n",
    "\n",
    "df.drop_duplicates('place')"
   ]
  },
  {
   "cell_type": "code",
   "execution_count": 29,
   "id": "984b4b98",
   "metadata": {},
   "outputs": [
    {
     "data": {
      "text/html": [
       "<div>\n",
       "<style scoped>\n",
       "    .dataframe tbody tr th:only-of-type {\n",
       "        vertical-align: middle;\n",
       "    }\n",
       "\n",
       "    .dataframe tbody tr th {\n",
       "        vertical-align: top;\n",
       "    }\n",
       "\n",
       "    .dataframe thead th {\n",
       "        text-align: right;\n",
       "    }\n",
       "</style>\n",
       "<table border=\"1\" class=\"dataframe\">\n",
       "  <thead>\n",
       "    <tr style=\"text-align: right;\">\n",
       "      <th></th>\n",
       "      <th>name</th>\n",
       "      <th>place</th>\n",
       "      <th>age</th>\n",
       "      <th>designation</th>\n",
       "    </tr>\n",
       "  </thead>\n",
       "  <tbody>\n",
       "    <tr>\n",
       "      <th>0</th>\n",
       "      <td>Ashwin</td>\n",
       "      <td>Pune</td>\n",
       "      <td>42.0</td>\n",
       "      <td>developer</td>\n",
       "    </tr>\n",
       "    <tr>\n",
       "      <th>1</th>\n",
       "      <td>Sanjay</td>\n",
       "      <td>Satara</td>\n",
       "      <td>20.0</td>\n",
       "      <td>tester</td>\n",
       "    </tr>\n",
       "    <tr>\n",
       "      <th>2</th>\n",
       "      <td>Smita</td>\n",
       "      <td>Sangli</td>\n",
       "      <td>25.0</td>\n",
       "      <td>designer</td>\n",
       "    </tr>\n",
       "    <tr>\n",
       "      <th>3</th>\n",
       "      <td>Vaibhav</td>\n",
       "      <td>Solapur</td>\n",
       "      <td>36.0</td>\n",
       "      <td>analyser</td>\n",
       "    </tr>\n",
       "    <tr>\n",
       "      <th>4</th>\n",
       "      <td>Abhijeet</td>\n",
       "      <td>Kolhapur</td>\n",
       "      <td>28.0</td>\n",
       "      <td>developer</td>\n",
       "    </tr>\n",
       "    <tr>\n",
       "      <th>5</th>\n",
       "      <td>Mahadev</td>\n",
       "      <td>Pune</td>\n",
       "      <td>24.0</td>\n",
       "      <td>developer</td>\n",
       "    </tr>\n",
       "    <tr>\n",
       "      <th>6</th>\n",
       "      <td>Supriya</td>\n",
       "      <td>Satara</td>\n",
       "      <td>45.0</td>\n",
       "      <td>tester</td>\n",
       "    </tr>\n",
       "    <tr>\n",
       "      <th>7</th>\n",
       "      <td>Pallavi</td>\n",
       "      <td>Sangli</td>\n",
       "      <td>25.0</td>\n",
       "      <td>designer</td>\n",
       "    </tr>\n",
       "    <tr>\n",
       "      <th>8</th>\n",
       "      <td>Sumeet</td>\n",
       "      <td>Solapur</td>\n",
       "      <td>21.0</td>\n",
       "      <td>analyser</td>\n",
       "    </tr>\n",
       "    <tr>\n",
       "      <th>9</th>\n",
       "      <td>Chidambar</td>\n",
       "      <td>Pune</td>\n",
       "      <td>19.0</td>\n",
       "      <td>developer</td>\n",
       "    </tr>\n",
       "    <tr>\n",
       "      <th>10</th>\n",
       "      <td>Subhash</td>\n",
       "      <td>Satara</td>\n",
       "      <td>45.0</td>\n",
       "      <td>tester</td>\n",
       "    </tr>\n",
       "    <tr>\n",
       "      <th>11</th>\n",
       "      <td>Meenal</td>\n",
       "      <td>Kolhapur</td>\n",
       "      <td>NaN</td>\n",
       "      <td>NaN</td>\n",
       "    </tr>\n",
       "  </tbody>\n",
       "</table>\n",
       "</div>"
      ],
      "text/plain": [
       "         name     place   age designation\n",
       "0      Ashwin      Pune  42.0   developer\n",
       "1      Sanjay    Satara  20.0      tester\n",
       "2       Smita    Sangli  25.0    designer\n",
       "3     Vaibhav   Solapur  36.0    analyser\n",
       "4    Abhijeet  Kolhapur  28.0   developer\n",
       "5     Mahadev      Pune  24.0   developer\n",
       "6     Supriya    Satara  45.0      tester\n",
       "7     Pallavi    Sangli  25.0    designer\n",
       "8      Sumeet   Solapur  21.0    analyser\n",
       "9   Chidambar      Pune  19.0   developer\n",
       "10    Subhash    Satara  45.0      tester\n",
       "11     Meenal  Kolhapur   NaN         NaN"
      ]
     },
     "execution_count": 29,
     "metadata": {},
     "output_type": "execute_result"
    }
   ],
   "source": [
    "# Append new record\n",
    "\n",
    "df=df.append({'name':'Meenal','place':'Kolhapur'},ignore_index=True)\n",
    "df"
   ]
  },
  {
   "cell_type": "raw",
   "id": "c11b7a37",
   "metadata": {},
   "source": [
    "Here, only name and place values are provided. so values of remaining columns are missing and replaced by NaN "
   ]
  },
  {
   "cell_type": "code",
   "execution_count": 30,
   "id": "54ded337",
   "metadata": {},
   "outputs": [
    {
     "data": {
      "text/plain": [
       "name           0\n",
       "place          0\n",
       "age            1\n",
       "designation    1\n",
       "dtype: int64"
      ]
     },
     "execution_count": 30,
     "metadata": {},
     "output_type": "execute_result"
    }
   ],
   "source": [
    "# Get count of missing values in each column\n",
    "\n",
    "df.isna().sum()"
   ]
  },
  {
   "cell_type": "raw",
   "id": "b7a97e2f",
   "metadata": {},
   "source": [
    "It indicates that column age and designation having one missing value in each"
   ]
  }
 ],
 "metadata": {
  "kernelspec": {
   "display_name": "Python 3",
   "language": "python",
   "name": "python3"
  },
  "language_info": {
   "codemirror_mode": {
    "name": "ipython",
    "version": 3
   },
   "file_extension": ".py",
   "mimetype": "text/x-python",
   "name": "python",
   "nbconvert_exporter": "python",
   "pygments_lexer": "ipython3",
   "version": "3.8.8"
  }
 },
 "nbformat": 4,
 "nbformat_minor": 5
}
