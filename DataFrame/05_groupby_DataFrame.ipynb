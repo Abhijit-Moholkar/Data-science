{
 "cells": [
  {
   "cell_type": "markdown",
   "id": "49fba3f4",
   "metadata": {},
   "source": [
    "# Groupby\n",
    "\"\"\"\n",
    "A groupby operation involves some combination of splitting the object,       \n",
    "applying a function, and combining the results.      \n",
    "This can be used to group large amounts of data and compute operations on these groups.       \n",
    "Groupby to perform operations likeSplitting or Aggregations or Fiteration or Transformation.\n",
    "\"\"\""
   ]
  },
  {
   "cell_type": "markdown",
   "id": "75bbf549",
   "metadata": {},
   "source": [
    "##### Import required libraries"
   ]
  },
  {
   "cell_type": "code",
   "execution_count": 1,
   "id": "fe6a8b57",
   "metadata": {},
   "outputs": [],
   "source": [
    "import pandas as pd"
   ]
  },
  {
   "cell_type": "markdown",
   "id": "f52ea578",
   "metadata": {},
   "source": [
    "##### Create sample DataFrame"
   ]
  },
  {
   "cell_type": "code",
   "execution_count": 2,
   "id": "c2d32464",
   "metadata": {},
   "outputs": [
    {
     "data": {
      "text/html": [
       "<div>\n",
       "<style scoped>\n",
       "    .dataframe tbody tr th:only-of-type {\n",
       "        vertical-align: middle;\n",
       "    }\n",
       "\n",
       "    .dataframe tbody tr th {\n",
       "        vertical-align: top;\n",
       "    }\n",
       "\n",
       "    .dataframe thead th {\n",
       "        text-align: right;\n",
       "    }\n",
       "</style>\n",
       "<table border=\"1\" class=\"dataframe\">\n",
       "  <thead>\n",
       "    <tr style=\"text-align: right;\">\n",
       "      <th></th>\n",
       "      <th>Team</th>\n",
       "      <th>Rank</th>\n",
       "      <th>Year</th>\n",
       "      <th>Points</th>\n",
       "    </tr>\n",
       "  </thead>\n",
       "  <tbody>\n",
       "    <tr>\n",
       "      <th>0</th>\n",
       "      <td>MI</td>\n",
       "      <td>1</td>\n",
       "      <td>2014</td>\n",
       "      <td>876</td>\n",
       "    </tr>\n",
       "    <tr>\n",
       "      <th>1</th>\n",
       "      <td>MI</td>\n",
       "      <td>2</td>\n",
       "      <td>2015</td>\n",
       "      <td>789</td>\n",
       "    </tr>\n",
       "    <tr>\n",
       "      <th>2</th>\n",
       "      <td>Devils</td>\n",
       "      <td>2</td>\n",
       "      <td>2014</td>\n",
       "      <td>863</td>\n",
       "    </tr>\n",
       "    <tr>\n",
       "      <th>3</th>\n",
       "      <td>Devils</td>\n",
       "      <td>3</td>\n",
       "      <td>2015</td>\n",
       "      <td>673</td>\n",
       "    </tr>\n",
       "    <tr>\n",
       "      <th>4</th>\n",
       "      <td>Kings</td>\n",
       "      <td>3</td>\n",
       "      <td>2014</td>\n",
       "      <td>741</td>\n",
       "    </tr>\n",
       "    <tr>\n",
       "      <th>5</th>\n",
       "      <td>CSK</td>\n",
       "      <td>4</td>\n",
       "      <td>2015</td>\n",
       "      <td>812</td>\n",
       "    </tr>\n",
       "    <tr>\n",
       "      <th>6</th>\n",
       "      <td>CSK</td>\n",
       "      <td>1</td>\n",
       "      <td>2016</td>\n",
       "      <td>756</td>\n",
       "    </tr>\n",
       "    <tr>\n",
       "      <th>7</th>\n",
       "      <td>CSK</td>\n",
       "      <td>1</td>\n",
       "      <td>2017</td>\n",
       "      <td>788</td>\n",
       "    </tr>\n",
       "    <tr>\n",
       "      <th>8</th>\n",
       "      <td>MI</td>\n",
       "      <td>2</td>\n",
       "      <td>2016</td>\n",
       "      <td>694</td>\n",
       "    </tr>\n",
       "    <tr>\n",
       "      <th>9</th>\n",
       "      <td>Royals</td>\n",
       "      <td>4</td>\n",
       "      <td>2014</td>\n",
       "      <td>701</td>\n",
       "    </tr>\n",
       "    <tr>\n",
       "      <th>10</th>\n",
       "      <td>Royals</td>\n",
       "      <td>1</td>\n",
       "      <td>2015</td>\n",
       "      <td>804</td>\n",
       "    </tr>\n",
       "    <tr>\n",
       "      <th>11</th>\n",
       "      <td>MI</td>\n",
       "      <td>2</td>\n",
       "      <td>2017</td>\n",
       "      <td>690</td>\n",
       "    </tr>\n",
       "  </tbody>\n",
       "</table>\n",
       "</div>"
      ],
      "text/plain": [
       "      Team  Rank  Year  Points\n",
       "0       MI     1  2014     876\n",
       "1       MI     2  2015     789\n",
       "2   Devils     2  2014     863\n",
       "3   Devils     3  2015     673\n",
       "4    Kings     3  2014     741\n",
       "5      CSK     4  2015     812\n",
       "6      CSK     1  2016     756\n",
       "7      CSK     1  2017     788\n",
       "8       MI     2  2016     694\n",
       "9   Royals     4  2014     701\n",
       "10  Royals     1  2015     804\n",
       "11      MI     2  2017     690"
      ]
     },
     "execution_count": 2,
     "metadata": {},
     "output_type": "execute_result"
    }
   ],
   "source": [
    "import pandas as pd\n",
    "\n",
    "ipl_data = {'Team': ['MI', 'MI', 'Devils', 'Devils', 'Kings',\n",
    "   'CSK', 'CSK', 'CSK', 'MI', 'Royals', 'Royals', 'MI'],\n",
    "   'Rank': [1, 2, 2, 3, 3,4 ,1 ,1,2 , 4,1,2],\n",
    "   'Year': [2014,2015,2014,2015,2014,2015,2016,2017,2016,2014,2015,2017],\n",
    "   'Points':[876,789,863,673,741,812,756,788,694,701,804,690]}\n",
    "df = pd.DataFrame(ipl_data)\n",
    "df"
   ]
  },
  {
   "cell_type": "code",
   "execution_count": 3,
   "id": "2db619ef",
   "metadata": {},
   "outputs": [
    {
     "data": {
      "text/plain": [
       "5"
      ]
     },
     "execution_count": 3,
     "metadata": {},
     "output_type": "execute_result"
    }
   ],
   "source": [
    "# Get total number of teams in dataset\n",
    "\n",
    "df.Team.nunique()"
   ]
  },
  {
   "cell_type": "raw",
   "id": "fad3b95a",
   "metadata": {},
   "source": [
    "It indicates that total five teams are playing"
   ]
  },
  {
   "cell_type": "code",
   "execution_count": 4,
   "id": "830c1e34",
   "metadata": {},
   "outputs": [
    {
     "data": {
      "text/plain": [
       "array(['MI', 'Devils', 'Kings', 'CSK', 'Royals'], dtype=object)"
      ]
     },
     "execution_count": 4,
     "metadata": {},
     "output_type": "execute_result"
    }
   ],
   "source": [
    "# Get names of teams in dataset\n",
    "\n",
    "df.Team.unique()"
   ]
  },
  {
   "cell_type": "code",
   "execution_count": 5,
   "id": "602ec427",
   "metadata": {},
   "outputs": [
    {
     "data": {
      "text/plain": [
       "MI        4\n",
       "CSK       3\n",
       "Devils    2\n",
       "Royals    2\n",
       "Kings     1\n",
       "Name: Team, dtype: int64"
      ]
     },
     "execution_count": 5,
     "metadata": {},
     "output_type": "execute_result"
    }
   ],
   "source": [
    "# Get count of how many matches played by each team\n",
    "\n",
    "df.Team.value_counts()"
   ]
  },
  {
   "cell_type": "raw",
   "id": "0b7a9459",
   "metadata": {},
   "source": [
    "It indicates that MI has played 4 matches, CSK has played 3 matches, Royals has played 2 matches, Devils has played 2 matches, and kings has played 1 match."
   ]
  },
  {
   "cell_type": "code",
   "execution_count": 6,
   "id": "36748d46",
   "metadata": {},
   "outputs": [
    {
     "data": {
      "text/plain": [
       "<pandas.core.groupby.generic.DataFrameGroupBy object at 0x00000206EC24C790>"
      ]
     },
     "execution_count": 6,
     "metadata": {},
     "output_type": "execute_result"
    }
   ],
   "source": [
    "# Groupby on Team column: It gives summary of each team\n",
    "\n",
    "df.groupby('Team')"
   ]
  },
  {
   "cell_type": "raw",
   "id": "a7d655b6",
   "metadata": {},
   "source": [
    " It gives object. To see contents type cast it in to list"
   ]
  },
  {
   "cell_type": "code",
   "execution_count": 7,
   "id": "93c8cb5b",
   "metadata": {},
   "outputs": [
    {
     "data": {
      "text/plain": [
       "[('CSK',\n",
       "    Team  Rank  Year  Points\n",
       "  5  CSK     4  2015     812\n",
       "  6  CSK     1  2016     756\n",
       "  7  CSK     1  2017     788),\n",
       " ('Devils',\n",
       "       Team  Rank  Year  Points\n",
       "  2  Devils     2  2014     863\n",
       "  3  Devils     3  2015     673),\n",
       " ('Kings',\n",
       "      Team  Rank  Year  Points\n",
       "  4  Kings     3  2014     741),\n",
       " ('MI',\n",
       "     Team  Rank  Year  Points\n",
       "  0    MI     1  2014     876\n",
       "  1    MI     2  2015     789\n",
       "  8    MI     2  2016     694\n",
       "  11   MI     2  2017     690),\n",
       " ('Royals',\n",
       "        Team  Rank  Year  Points\n",
       "  9   Royals     4  2014     701\n",
       "  10  Royals     1  2015     804)]"
      ]
     },
     "execution_count": 7,
     "metadata": {},
     "output_type": "execute_result"
    }
   ],
   "source": [
    "l1 = list(df.groupby('Team'))\n",
    "l1"
   ]
  },
  {
   "cell_type": "raw",
   "id": "76b97312",
   "metadata": {},
   "source": [
    "This is in tuple "
   ]
  },
  {
   "cell_type": "code",
   "execution_count": 8,
   "id": "6ced9848",
   "metadata": {},
   "outputs": [
    {
     "name": "stdout",
     "output_type": "stream",
     "text": [
      "CSK\n",
      "Devils\n",
      "Kings\n",
      "MI\n",
      "Royals\n"
     ]
    }
   ],
   "source": [
    "# Get only team from a tuple\n",
    "\n",
    "for i in l1:\n",
    "    print(i[0])"
   ]
  },
  {
   "cell_type": "raw",
   "id": "ec12f28a",
   "metadata": {},
   "source": [
    "It can be possible like\n",
    "for team,data in l1:\n",
    "    print(team)"
   ]
  },
  {
   "cell_type": "code",
   "execution_count": 9,
   "id": "0056565f",
   "metadata": {},
   "outputs": [
    {
     "data": {
      "text/html": [
       "<div>\n",
       "<style scoped>\n",
       "    .dataframe tbody tr th:only-of-type {\n",
       "        vertical-align: middle;\n",
       "    }\n",
       "\n",
       "    .dataframe tbody tr th {\n",
       "        vertical-align: top;\n",
       "    }\n",
       "\n",
       "    .dataframe thead th {\n",
       "        text-align: right;\n",
       "    }\n",
       "</style>\n",
       "<table border=\"1\" class=\"dataframe\">\n",
       "  <thead>\n",
       "    <tr style=\"text-align: right;\">\n",
       "      <th></th>\n",
       "      <th>Team</th>\n",
       "      <th>Rank</th>\n",
       "      <th>Year</th>\n",
       "      <th>Points</th>\n",
       "    </tr>\n",
       "  </thead>\n",
       "  <tbody>\n",
       "    <tr>\n",
       "      <th>0</th>\n",
       "      <td>MI</td>\n",
       "      <td>1</td>\n",
       "      <td>2014</td>\n",
       "      <td>876</td>\n",
       "    </tr>\n",
       "    <tr>\n",
       "      <th>1</th>\n",
       "      <td>MI</td>\n",
       "      <td>2</td>\n",
       "      <td>2015</td>\n",
       "      <td>789</td>\n",
       "    </tr>\n",
       "    <tr>\n",
       "      <th>8</th>\n",
       "      <td>MI</td>\n",
       "      <td>2</td>\n",
       "      <td>2016</td>\n",
       "      <td>694</td>\n",
       "    </tr>\n",
       "    <tr>\n",
       "      <th>11</th>\n",
       "      <td>MI</td>\n",
       "      <td>2</td>\n",
       "      <td>2017</td>\n",
       "      <td>690</td>\n",
       "    </tr>\n",
       "  </tbody>\n",
       "</table>\n",
       "</div>"
      ],
      "text/plain": [
       "   Team  Rank  Year  Points\n",
       "0    MI     1  2014     876\n",
       "1    MI     2  2015     789\n",
       "8    MI     2  2016     694\n",
       "11   MI     2  2017     690"
      ]
     },
     "execution_count": 9,
     "metadata": {},
     "output_type": "execute_result"
    }
   ],
   "source": [
    "# Get records of only MI\n",
    "\n",
    "df.groupby('Team').get_group('MI')"
   ]
  },
  {
   "cell_type": "raw",
   "id": "2f306cfb",
   "metadata": {},
   "source": [
    "It can be possible like\n",
    "for team,data in l1:\n",
    "    if team == 'MI':\n",
    "        print(data)"
   ]
  },
  {
   "cell_type": "code",
   "execution_count": 10,
   "id": "386587c1",
   "metadata": {},
   "outputs": [
    {
     "data": {
      "text/plain": [
       "{'CSK': [5, 6, 7], 'Devils': [2, 3], 'Kings': [4], 'MI': [0, 1, 8, 11], 'Royals': [9, 10]}"
      ]
     },
     "execution_count": 10,
     "metadata": {},
     "output_type": "execute_result"
    }
   ],
   "source": [
    "# Gate index where team is present\n",
    "\n",
    "df.groupby('Team').groups"
   ]
  },
  {
   "cell_type": "raw",
   "id": "3bf09d15",
   "metadata": {},
   "source": [
    "It indicates that CSK is present at index 5,6,7 like that"
   ]
  },
  {
   "cell_type": "code",
   "execution_count": 11,
   "id": "4b71f2d3",
   "metadata": {},
   "outputs": [
    {
     "data": {
      "text/html": [
       "<div>\n",
       "<style scoped>\n",
       "    .dataframe tbody tr th:only-of-type {\n",
       "        vertical-align: middle;\n",
       "    }\n",
       "\n",
       "    .dataframe tbody tr th {\n",
       "        vertical-align: top;\n",
       "    }\n",
       "\n",
       "    .dataframe thead th {\n",
       "        text-align: right;\n",
       "    }\n",
       "</style>\n",
       "<table border=\"1\" class=\"dataframe\">\n",
       "  <thead>\n",
       "    <tr style=\"text-align: right;\">\n",
       "      <th></th>\n",
       "      <th>Rank</th>\n",
       "      <th>Points</th>\n",
       "    </tr>\n",
       "    <tr>\n",
       "      <th>Year</th>\n",
       "      <th></th>\n",
       "      <th></th>\n",
       "    </tr>\n",
       "  </thead>\n",
       "  <tbody>\n",
       "    <tr>\n",
       "      <th>2014</th>\n",
       "      <td>2.5</td>\n",
       "      <td>795.25</td>\n",
       "    </tr>\n",
       "    <tr>\n",
       "      <th>2015</th>\n",
       "      <td>2.5</td>\n",
       "      <td>769.50</td>\n",
       "    </tr>\n",
       "    <tr>\n",
       "      <th>2016</th>\n",
       "      <td>1.5</td>\n",
       "      <td>725.00</td>\n",
       "    </tr>\n",
       "    <tr>\n",
       "      <th>2017</th>\n",
       "      <td>1.5</td>\n",
       "      <td>739.00</td>\n",
       "    </tr>\n",
       "  </tbody>\n",
       "</table>\n",
       "</div>"
      ],
      "text/plain": [
       "      Rank  Points\n",
       "Year              \n",
       "2014   2.5  795.25\n",
       "2015   2.5  769.50\n",
       "2016   1.5  725.00\n",
       "2017   1.5  739.00"
      ]
     },
     "execution_count": 11,
     "metadata": {},
     "output_type": "execute_result"
    }
   ],
   "source": [
    "# Get year wise average performance\n",
    "\n",
    "df.groupby('Year').mean()"
   ]
  },
  {
   "cell_type": "raw",
   "id": "765e8821",
   "metadata": {},
   "source": [
    "It gives average performance of Rank and Points oly as remaining columns are non-numeric"
   ]
  },
  {
   "cell_type": "code",
   "execution_count": 12,
   "id": "83391101",
   "metadata": {},
   "outputs": [
    {
     "data": {
      "text/plain": [
       "Year\n",
       "2014    795.25\n",
       "2015    769.50\n",
       "2016    725.00\n",
       "2017    739.00\n",
       "Name: Points, dtype: float64"
      ]
     },
     "execution_count": 12,
     "metadata": {},
     "output_type": "execute_result"
    }
   ],
   "source": [
    "# Get year wise mean of points only\n",
    "\n",
    "df.groupby('Year').mean()['Points']"
   ]
  },
  {
   "cell_type": "code",
   "execution_count": 13,
   "id": "2ce0bc3f",
   "metadata": {},
   "outputs": [
    {
     "data": {
      "text/plain": [
       "Int64Index([2016], dtype='int64', name='Year')"
      ]
     },
     "execution_count": 13,
     "metadata": {},
     "output_type": "execute_result"
    }
   ],
   "source": [
    "# Get year with minimum average points\n",
    "\n",
    "df.groupby('Year').mean()['Points'][df.groupby('Year').mean()['Points'].min() == df.groupby('Year').mean()['Points']].index"
   ]
  },
  {
   "cell_type": "code",
   "execution_count": 14,
   "id": "a53a42b0",
   "metadata": {},
   "outputs": [
    {
     "data": {
      "text/plain": [
       "Year\n",
       "2014    3181\n",
       "2015    3078\n",
       "2016    1450\n",
       "2017    1478\n",
       "Name: Points, dtype: int64"
      ]
     },
     "execution_count": 14,
     "metadata": {},
     "output_type": "execute_result"
    }
   ],
   "source": [
    "# Get yearwise total points\n",
    "\n",
    "df.groupby('Year').sum()['Points']"
   ]
  },
  {
   "cell_type": "code",
   "execution_count": 15,
   "id": "8207de70",
   "metadata": {},
   "outputs": [
    {
     "data": {
      "text/plain": [
       "['MI', 'CSK', 'CSK', 'Royals']"
      ]
     },
     "execution_count": 15,
     "metadata": {},
     "output_type": "execute_result"
    }
   ],
   "source": [
    "# Get only teams with rank 1\n",
    "\n",
    "df.groupby('Rank').get_group(1)['Team'].tolist()"
   ]
  },
  {
   "cell_type": "code",
   "execution_count": 16,
   "id": "5d381f4d",
   "metadata": {},
   "outputs": [
    {
     "data": {
      "text/html": [
       "<div>\n",
       "<style scoped>\n",
       "    .dataframe tbody tr th:only-of-type {\n",
       "        vertical-align: middle;\n",
       "    }\n",
       "\n",
       "    .dataframe tbody tr th {\n",
       "        vertical-align: top;\n",
       "    }\n",
       "\n",
       "    .dataframe thead th {\n",
       "        text-align: right;\n",
       "    }\n",
       "</style>\n",
       "<table border=\"1\" class=\"dataframe\">\n",
       "  <thead>\n",
       "    <tr style=\"text-align: right;\">\n",
       "      <th></th>\n",
       "      <th>Team</th>\n",
       "      <th>Year</th>\n",
       "      <th>Points</th>\n",
       "    </tr>\n",
       "    <tr>\n",
       "      <th>Rank</th>\n",
       "      <th></th>\n",
       "      <th></th>\n",
       "      <th></th>\n",
       "    </tr>\n",
       "  </thead>\n",
       "  <tbody>\n",
       "    <tr>\n",
       "      <th>1</th>\n",
       "      <td>MI</td>\n",
       "      <td>2014</td>\n",
       "      <td>876</td>\n",
       "    </tr>\n",
       "    <tr>\n",
       "      <th>2</th>\n",
       "      <td>MI</td>\n",
       "      <td>2015</td>\n",
       "      <td>789</td>\n",
       "    </tr>\n",
       "    <tr>\n",
       "      <th>3</th>\n",
       "      <td>Devils</td>\n",
       "      <td>2015</td>\n",
       "      <td>673</td>\n",
       "    </tr>\n",
       "    <tr>\n",
       "      <th>4</th>\n",
       "      <td>CSK</td>\n",
       "      <td>2015</td>\n",
       "      <td>812</td>\n",
       "    </tr>\n",
       "  </tbody>\n",
       "</table>\n",
       "</div>"
      ],
      "text/plain": [
       "        Team  Year  Points\n",
       "Rank                      \n",
       "1         MI  2014     876\n",
       "2         MI  2015     789\n",
       "3     Devils  2015     673\n",
       "4        CSK  2015     812"
      ]
     },
     "execution_count": 16,
     "metadata": {},
     "output_type": "execute_result"
    }
   ],
   "source": [
    "# Get 1st entry of each category according to Team with Rank groupby\n",
    "\n",
    "df.groupby('Rank').first()"
   ]
  },
  {
   "cell_type": "code",
   "execution_count": 17,
   "id": "711bf10b",
   "metadata": {},
   "outputs": [
    {
     "data": {
      "text/html": [
       "<div>\n",
       "<style scoped>\n",
       "    .dataframe tbody tr th:only-of-type {\n",
       "        vertical-align: middle;\n",
       "    }\n",
       "\n",
       "    .dataframe tbody tr th {\n",
       "        vertical-align: top;\n",
       "    }\n",
       "\n",
       "    .dataframe thead th {\n",
       "        text-align: right;\n",
       "    }\n",
       "</style>\n",
       "<table border=\"1\" class=\"dataframe\">\n",
       "  <thead>\n",
       "    <tr style=\"text-align: right;\">\n",
       "      <th></th>\n",
       "      <th>Team</th>\n",
       "      <th>Year</th>\n",
       "      <th>Points</th>\n",
       "    </tr>\n",
       "    <tr>\n",
       "      <th>Rank</th>\n",
       "      <th></th>\n",
       "      <th></th>\n",
       "      <th></th>\n",
       "    </tr>\n",
       "  </thead>\n",
       "  <tbody>\n",
       "    <tr>\n",
       "      <th>1</th>\n",
       "      <td>Royals</td>\n",
       "      <td>2015</td>\n",
       "      <td>804</td>\n",
       "    </tr>\n",
       "    <tr>\n",
       "      <th>2</th>\n",
       "      <td>MI</td>\n",
       "      <td>2017</td>\n",
       "      <td>690</td>\n",
       "    </tr>\n",
       "    <tr>\n",
       "      <th>3</th>\n",
       "      <td>Kings</td>\n",
       "      <td>2014</td>\n",
       "      <td>741</td>\n",
       "    </tr>\n",
       "    <tr>\n",
       "      <th>4</th>\n",
       "      <td>Royals</td>\n",
       "      <td>2014</td>\n",
       "      <td>701</td>\n",
       "    </tr>\n",
       "  </tbody>\n",
       "</table>\n",
       "</div>"
      ],
      "text/plain": [
       "        Team  Year  Points\n",
       "Rank                      \n",
       "1     Royals  2015     804\n",
       "2         MI  2017     690\n",
       "3      Kings  2014     741\n",
       "4     Royals  2014     701"
      ]
     },
     "execution_count": 17,
     "metadata": {},
     "output_type": "execute_result"
    }
   ],
   "source": [
    "# Get last entry of each category according to Team with Rank groupby\n",
    "\n",
    "df.groupby('Rank').last()"
   ]
  },
  {
   "cell_type": "code",
   "execution_count": 18,
   "id": "867d9df0",
   "metadata": {},
   "outputs": [
    {
     "name": "stdout",
     "output_type": "stream",
     "text": [
      "  Team  Rank  Year  Points\n",
      "6  CSK     1  2016     756\n",
      "7  CSK     1  2017     788\n",
      "     Team  Rank  Year  Points\n",
      "2  Devils     2  2014     863\n",
      "8      MI     2  2016     694\n",
      "    Team  Rank  Year  Points\n",
      "4  Kings     3  2014     741\n",
      "     Team  Rank  Year  Points\n",
      "9  Royals     4  2014     701\n"
     ]
    }
   ],
   "source": [
    "# Get second and third entry of each category according to Team with Rank groupby\n",
    "\n",
    "for i in list(df.groupby('Rank')):\n",
    "    print(i[1][1:3])\n"
   ]
  },
  {
   "cell_type": "code",
   "execution_count": 19,
   "id": "ec5e9e78",
   "metadata": {},
   "outputs": [
    {
     "data": {
      "text/plain": [
       "{('CSK', 2015): [5], ('CSK', 2016): [6], ('CSK', 2017): [7], ('Devils', 2014): [2], ('Devils', 2015): [3], ('Kings', 2014): [4], ('MI', 2014): [0], ('MI', 2015): [1], ('MI', 2016): [8], ('MI', 2017): [11], ('Royals', 2014): [9], ('Royals', 2015): [10]}"
      ]
     },
     "execution_count": 19,
     "metadata": {},
     "output_type": "execute_result"
    }
   ],
   "source": [
    "# Multiple column groupby\n",
    "\n",
    "df.groupby(['Team','Year']).groups"
   ]
  },
  {
   "cell_type": "raw",
   "id": "3896ce18",
   "metadata": {},
   "source": [
    "It will apply groupby firt on Team and then on year.\n",
    "It will give index of matched records"
   ]
  },
  {
   "cell_type": "code",
   "execution_count": 20,
   "id": "2999539d",
   "metadata": {},
   "outputs": [
    {
     "data": {
      "text/html": [
       "<div>\n",
       "<style scoped>\n",
       "    .dataframe tbody tr th:only-of-type {\n",
       "        vertical-align: middle;\n",
       "    }\n",
       "\n",
       "    .dataframe tbody tr th {\n",
       "        vertical-align: top;\n",
       "    }\n",
       "\n",
       "    .dataframe thead th {\n",
       "        text-align: right;\n",
       "    }\n",
       "</style>\n",
       "<table border=\"1\" class=\"dataframe\">\n",
       "  <thead>\n",
       "    <tr style=\"text-align: right;\">\n",
       "      <th></th>\n",
       "      <th>Team</th>\n",
       "      <th>Rank</th>\n",
       "      <th>Year</th>\n",
       "      <th>Points</th>\n",
       "    </tr>\n",
       "  </thead>\n",
       "  <tbody>\n",
       "    <tr>\n",
       "      <th>0</th>\n",
       "      <td>MI</td>\n",
       "      <td>1</td>\n",
       "      <td>2014</td>\n",
       "      <td>876</td>\n",
       "    </tr>\n",
       "    <tr>\n",
       "      <th>2</th>\n",
       "      <td>Devils</td>\n",
       "      <td>2</td>\n",
       "      <td>2014</td>\n",
       "      <td>863</td>\n",
       "    </tr>\n",
       "    <tr>\n",
       "      <th>4</th>\n",
       "      <td>Kings</td>\n",
       "      <td>3</td>\n",
       "      <td>2014</td>\n",
       "      <td>741</td>\n",
       "    </tr>\n",
       "    <tr>\n",
       "      <th>9</th>\n",
       "      <td>Royals</td>\n",
       "      <td>4</td>\n",
       "      <td>2014</td>\n",
       "      <td>701</td>\n",
       "    </tr>\n",
       "  </tbody>\n",
       "</table>\n",
       "</div>"
      ],
      "text/plain": [
       "     Team  Rank  Year  Points\n",
       "0      MI     1  2014     876\n",
       "2  Devils     2  2014     863\n",
       "4   Kings     3  2014     741\n",
       "9  Royals     4  2014     701"
      ]
     },
     "execution_count": 20,
     "metadata": {},
     "output_type": "execute_result"
    }
   ],
   "source": [
    "# Get records of specific year\n",
    "\n",
    "df.groupby('Year').get_group(2014)"
   ]
  },
  {
   "cell_type": "raw",
   "id": "c0d696ae",
   "metadata": {},
   "source": [
    "To get records of specific year using get_groups method"
   ]
  }
 ],
 "metadata": {
  "kernelspec": {
   "display_name": "Python 3",
   "language": "python",
   "name": "python3"
  },
  "language_info": {
   "codemirror_mode": {
    "name": "ipython",
    "version": 3
   },
   "file_extension": ".py",
   "mimetype": "text/x-python",
   "name": "python",
   "nbconvert_exporter": "python",
   "pygments_lexer": "ipython3",
   "version": "3.8.8"
  }
 },
 "nbformat": 4,
 "nbformat_minor": 5
}
