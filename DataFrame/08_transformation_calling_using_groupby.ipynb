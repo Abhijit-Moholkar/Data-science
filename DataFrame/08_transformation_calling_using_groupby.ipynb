{
 "cells": [
  {
   "cell_type": "markdown",
   "id": "b89e4662",
   "metadata": {},
   "source": [
    "# Transformation calling a function over the selected data\n",
    "Apply transform fuction on selected data only to modify a specific data of DataFrame"
   ]
  },
  {
   "cell_type": "markdown",
   "id": "3ca85777",
   "metadata": {},
   "source": [
    "##### Import required libraries"
   ]
  },
  {
   "cell_type": "code",
   "execution_count": 1,
   "id": "569febe8",
   "metadata": {},
   "outputs": [],
   "source": [
    "import pandas as pd"
   ]
  },
  {
   "cell_type": "markdown",
   "id": "6f8f7bde",
   "metadata": {},
   "source": [
    "##### Create DataFrame of data "
   ]
  },
  {
   "cell_type": "code",
   "execution_count": 2,
   "id": "099eaee7",
   "metadata": {},
   "outputs": [
    {
     "data": {
      "text/html": [
       "<div>\n",
       "<style scoped>\n",
       "    .dataframe tbody tr th:only-of-type {\n",
       "        vertical-align: middle;\n",
       "    }\n",
       "\n",
       "    .dataframe tbody tr th {\n",
       "        vertical-align: top;\n",
       "    }\n",
       "\n",
       "    .dataframe thead th {\n",
       "        text-align: right;\n",
       "    }\n",
       "</style>\n",
       "<table border=\"1\" class=\"dataframe\">\n",
       "  <thead>\n",
       "    <tr style=\"text-align: right;\">\n",
       "      <th></th>\n",
       "      <th>Team</th>\n",
       "      <th>Rank</th>\n",
       "      <th>Year</th>\n",
       "      <th>Points</th>\n",
       "    </tr>\n",
       "  </thead>\n",
       "  <tbody>\n",
       "    <tr>\n",
       "      <th>0</th>\n",
       "      <td>MI</td>\n",
       "      <td>1</td>\n",
       "      <td>2014</td>\n",
       "      <td>876</td>\n",
       "    </tr>\n",
       "    <tr>\n",
       "      <th>1</th>\n",
       "      <td>MI</td>\n",
       "      <td>2</td>\n",
       "      <td>2015</td>\n",
       "      <td>789</td>\n",
       "    </tr>\n",
       "    <tr>\n",
       "      <th>2</th>\n",
       "      <td>Devils</td>\n",
       "      <td>2</td>\n",
       "      <td>2014</td>\n",
       "      <td>863</td>\n",
       "    </tr>\n",
       "    <tr>\n",
       "      <th>3</th>\n",
       "      <td>Devils</td>\n",
       "      <td>3</td>\n",
       "      <td>2015</td>\n",
       "      <td>673</td>\n",
       "    </tr>\n",
       "    <tr>\n",
       "      <th>4</th>\n",
       "      <td>Kings</td>\n",
       "      <td>3</td>\n",
       "      <td>2014</td>\n",
       "      <td>741</td>\n",
       "    </tr>\n",
       "    <tr>\n",
       "      <th>5</th>\n",
       "      <td>CSK</td>\n",
       "      <td>4</td>\n",
       "      <td>2015</td>\n",
       "      <td>812</td>\n",
       "    </tr>\n",
       "    <tr>\n",
       "      <th>6</th>\n",
       "      <td>CSK</td>\n",
       "      <td>1</td>\n",
       "      <td>2016</td>\n",
       "      <td>756</td>\n",
       "    </tr>\n",
       "    <tr>\n",
       "      <th>7</th>\n",
       "      <td>CSK</td>\n",
       "      <td>1</td>\n",
       "      <td>2017</td>\n",
       "      <td>788</td>\n",
       "    </tr>\n",
       "    <tr>\n",
       "      <th>8</th>\n",
       "      <td>MI</td>\n",
       "      <td>2</td>\n",
       "      <td>2016</td>\n",
       "      <td>694</td>\n",
       "    </tr>\n",
       "    <tr>\n",
       "      <th>9</th>\n",
       "      <td>Royals</td>\n",
       "      <td>4</td>\n",
       "      <td>2014</td>\n",
       "      <td>701</td>\n",
       "    </tr>\n",
       "    <tr>\n",
       "      <th>10</th>\n",
       "      <td>Royals</td>\n",
       "      <td>1</td>\n",
       "      <td>2015</td>\n",
       "      <td>804</td>\n",
       "    </tr>\n",
       "    <tr>\n",
       "      <th>11</th>\n",
       "      <td>MI</td>\n",
       "      <td>2</td>\n",
       "      <td>2017</td>\n",
       "      <td>690</td>\n",
       "    </tr>\n",
       "  </tbody>\n",
       "</table>\n",
       "</div>"
      ],
      "text/plain": [
       "      Team  Rank  Year  Points\n",
       "0       MI     1  2014     876\n",
       "1       MI     2  2015     789\n",
       "2   Devils     2  2014     863\n",
       "3   Devils     3  2015     673\n",
       "4    Kings     3  2014     741\n",
       "5      CSK     4  2015     812\n",
       "6      CSK     1  2016     756\n",
       "7      CSK     1  2017     788\n",
       "8       MI     2  2016     694\n",
       "9   Royals     4  2014     701\n",
       "10  Royals     1  2015     804\n",
       "11      MI     2  2017     690"
      ]
     },
     "execution_count": 2,
     "metadata": {},
     "output_type": "execute_result"
    }
   ],
   "source": [
    "ipl_data = {'Team': ['MI', 'MI', 'Devils', 'Devils', 'Kings',\n",
    "   'CSK', 'CSK', 'CSK', 'MI', 'Royals', 'Royals', 'MI'],\n",
    "   'Rank': [1, 2, 2, 3, 3,4 ,1 ,1,2 , 4,1,2],\n",
    "   'Year': [2014,2015,2014,2015,2014,2015,2016,2017,2016,2014,2015,2017],\n",
    "   'Points':[876,789,863,673,741,812,756,788,694,701,804,690]}\n",
    "df = pd.DataFrame(ipl_data)\n",
    "df"
   ]
  },
  {
   "cell_type": "code",
   "execution_count": 3,
   "id": "cb45214b",
   "metadata": {},
   "outputs": [
    {
     "data": {
      "text/plain": [
       "0     976\n",
       "1     889\n",
       "2     963\n",
       "3     773\n",
       "4     841\n",
       "5     912\n",
       "6     856\n",
       "7     888\n",
       "8     794\n",
       "9     801\n",
       "10    904\n",
       "11    790\n",
       "Name: Points, dtype: int64"
      ]
     },
     "execution_count": 3,
     "metadata": {},
     "output_type": "execute_result"
    }
   ],
   "source": [
    "# Transforming Points column by addition of 100 points in each a\n",
    "\n",
    "df.groupby('Year')['Points'].transform(lambda x:x+100)"
   ]
  },
  {
   "cell_type": "code",
   "execution_count": 4,
   "id": "4ea27cbf",
   "metadata": {},
   "outputs": [
    {
     "data": {
      "text/plain": [
       "0     976\n",
       "1     889\n",
       "2     963\n",
       "3     773\n",
       "4     841\n",
       "5     912\n",
       "6     856\n",
       "7     888\n",
       "8     794\n",
       "9     801\n",
       "10    904\n",
       "11    790\n",
       "Name: Points, dtype: int64"
      ]
     },
     "execution_count": 4,
     "metadata": {},
     "output_type": "execute_result"
    }
   ],
   "source": [
    "# It can be done using pythonic way\n",
    "\n",
    "def add(x):\n",
    "    return x+100\n",
    "df.groupby('Year')['Points'].transform(add)"
   ]
  },
  {
   "cell_type": "code",
   "execution_count": 5,
   "id": "f7143cfc",
   "metadata": {},
   "outputs": [
    {
     "data": {
      "text/plain": [
       "5    822\n",
       "6    766\n",
       "7    798\n",
       "Name: Points, dtype: int64"
      ]
     },
     "execution_count": 5,
     "metadata": {},
     "output_type": "execute_result"
    }
   ],
   "source": [
    "# Give additional 10 points to csk using transform\n",
    "\n",
    "df.groupby('Team').get_group('CSK')['Points'].transform(lambda x : x+10)"
   ]
  },
  {
   "cell_type": "code",
   "execution_count": 6,
   "id": "4f5ef46f",
   "metadata": {},
   "outputs": [
    {
     "data": {
      "text/plain": [
       "1     799\n",
       "3     683\n",
       "5     822\n",
       "10    814\n",
       "Name: Points, dtype: int64"
      ]
     },
     "execution_count": 6,
     "metadata": {},
     "output_type": "execute_result"
    }
   ],
   "source": [
    "# Give additional 10 point only to the teams from year 2015\n",
    "\n",
    "df.groupby('Year').get_group(2015)['Points']+10"
   ]
  },
  {
   "cell_type": "code",
   "execution_count": 7,
   "id": "062a04e0",
   "metadata": {},
   "outputs": [
    {
     "data": {
      "text/plain": [
       "0     976\n",
       "1     889\n",
       "2     963\n",
       "3     773\n",
       "4     841\n",
       "5     912\n",
       "6     856\n",
       "7     888\n",
       "8     794\n",
       "9     801\n",
       "10    904\n",
       "11    790\n",
       "Name: Points, dtype: int64"
      ]
     },
     "execution_count": 7,
     "metadata": {},
     "output_type": "execute_result"
    }
   ],
   "source": [
    "# Give additional 10 point only to the teams from year 2015 without groupby\n",
    "\n",
    "def add(x):\n",
    "    return x+100\n",
    "df.groupby('Year')['Points'].transform(add)"
   ]
  },
  {
   "cell_type": "raw",
   "id": "2fa6e484",
   "metadata": {},
   "source": [
    "Here, we have applied number of transformation functions using lambda and without it also"
   ]
  }
 ],
 "metadata": {
  "kernelspec": {
   "display_name": "Python 3",
   "language": "python",
   "name": "python3"
  },
  "language_info": {
   "codemirror_mode": {
    "name": "ipython",
    "version": 3
   },
   "file_extension": ".py",
   "mimetype": "text/x-python",
   "name": "python",
   "nbconvert_exporter": "python",
   "pygments_lexer": "ipython3",
   "version": "3.8.8"
  }
 },
 "nbformat": 4,
 "nbformat_minor": 5
}
